{
  "nbformat": 4,
  "nbformat_minor": 0,
  "metadata": {
    "colab": {
      "provenance": [],
      "collapsed_sections": [],
      "authorship_tag": "ABX9TyNPiZ5tnFpLmtAzIEFmho1Q",
      "include_colab_link": true
    },
    "kernelspec": {
      "name": "python3",
      "display_name": "Python 3"
    },
    "language_info": {
      "name": "python"
    }
  },
  "cells": [
    {
      "cell_type": "markdown",
      "metadata": {
        "id": "view-in-github",
        "colab_type": "text"
      },
      "source": [
        "<a href=\"https://colab.research.google.com/github/sandeepss2020/Machine-Learning/blob/main/ML_lab7_ML_Logistic_Regression.ipynb\" target=\"_parent\"><img src=\"https://colab.research.google.com/assets/colab-badge.svg\" alt=\"Open In Colab\"/></a>"
      ]
    },
    {
      "cell_type": "markdown",
      "source": [
        "# ***Lab 7: Apply Logistic Regression classification algorithm to your data set and perform the following***\n",
        "1. Find confusion matrix\n",
        "2.Generate Classification report \n",
        "3. Interpret and visualize the results."
      ],
      "metadata": {
        "id": "L7UXzUW_DPwb"
      }
    },
    {
      "cell_type": "code",
      "source": [
        "# Importing Necessary Libraries\n",
        "import pandas as pd\n",
        "import numpy as np\n",
        "from matplotlib import pyplot as plt\n",
        "import seaborn as sns\n",
        "from sklearn.linear_model import LinearRegression, LogisticRegression\n",
        "from sklearn.model_selection import train_test_split\n",
        "from sklearn import metrics\n"
      ],
      "metadata": {
        "id": "Da_msigkDESW"
      },
      "execution_count": null,
      "outputs": []
    },
    {
      "cell_type": "code",
      "source": [
        "adult_df = pd.read_csv('adult.csv')\n",
        "print(\"Number of Observations in adult dataset:\", adult_df.shape)\n",
        "adult_df.head()"
      ],
      "metadata": {
        "colab": {
          "base_uri": "https://localhost:8080/",
          "height": 392
        },
        "id": "68hpmBHGDEPQ",
        "outputId": "80d430aa-c9a9-40d6-9fd3-b0c37a4e9a33"
      },
      "execution_count": null,
      "outputs": [
        {
          "output_type": "stream",
          "name": "stdout",
          "text": [
            "Number of Observations in adult dataset: (46303, 16)\n"
          ]
        },
        {
          "output_type": "stream",
          "name": "stderr",
          "text": [
            "/usr/local/lib/python3.7/dist-packages/IPython/core/interactiveshell.py:3326: DtypeWarning: Columns (4,11,12) have mixed types.Specify dtype option on import or set low_memory=False.\n",
            "  exec(code_obj, self.user_global_ns, self.user_ns)\n"
          ]
        },
        {
          "output_type": "execute_result",
          "data": {
            "text/plain": [
              "   age workclass  fnlwgt     education education.num marital.status  \\\n",
              "0   90         ?   77053       HS-grad             9        Widowed   \n",
              "1   82   Private  132870       HS-grad             9        Widowed   \n",
              "2   66         ?  186061  Some-college            10        Widowed   \n",
              "3   54   Private  140359       7th-8th             4       Divorced   \n",
              "4   41   Private  264663  Some-college            10      Separated   \n",
              "\n",
              "          occupation   relationship   race     sex  capital.gain capital.loss  \\\n",
              "0                  ?  Not-in-family  White  Female             0         4356   \n",
              "1    Exec-managerial  Not-in-family  White  Female             0         4356   \n",
              "2                  ?      Unmarried  Black  Female             0         4356   \n",
              "3  Machine-op-inspct      Unmarried  White  Female             0         3900   \n",
              "4     Prof-specialty      Own-child  White  Female             0         3900   \n",
              "\n",
              "  hours.per.week native.country income  Label  \n",
              "0             40  United-States  <=50K    0.0  \n",
              "1             18  United-States  <=50K    0.0  \n",
              "2             40  United-States  <=50K    0.0  \n",
              "3             40  United-States  <=50K    0.0  \n",
              "4             40  United-States  <=50K    0.0  "
            ],
            "text/html": [
              "\n",
              "  <div id=\"df-09479606-3932-420b-bf85-041af0710131\">\n",
              "    <div class=\"colab-df-container\">\n",
              "      <div>\n",
              "<style scoped>\n",
              "    .dataframe tbody tr th:only-of-type {\n",
              "        vertical-align: middle;\n",
              "    }\n",
              "\n",
              "    .dataframe tbody tr th {\n",
              "        vertical-align: top;\n",
              "    }\n",
              "\n",
              "    .dataframe thead th {\n",
              "        text-align: right;\n",
              "    }\n",
              "</style>\n",
              "<table border=\"1\" class=\"dataframe\">\n",
              "  <thead>\n",
              "    <tr style=\"text-align: right;\">\n",
              "      <th></th>\n",
              "      <th>age</th>\n",
              "      <th>workclass</th>\n",
              "      <th>fnlwgt</th>\n",
              "      <th>education</th>\n",
              "      <th>education.num</th>\n",
              "      <th>marital.status</th>\n",
              "      <th>occupation</th>\n",
              "      <th>relationship</th>\n",
              "      <th>race</th>\n",
              "      <th>sex</th>\n",
              "      <th>capital.gain</th>\n",
              "      <th>capital.loss</th>\n",
              "      <th>hours.per.week</th>\n",
              "      <th>native.country</th>\n",
              "      <th>income</th>\n",
              "      <th>Label</th>\n",
              "    </tr>\n",
              "  </thead>\n",
              "  <tbody>\n",
              "    <tr>\n",
              "      <th>0</th>\n",
              "      <td>90</td>\n",
              "      <td>?</td>\n",
              "      <td>77053</td>\n",
              "      <td>HS-grad</td>\n",
              "      <td>9</td>\n",
              "      <td>Widowed</td>\n",
              "      <td>?</td>\n",
              "      <td>Not-in-family</td>\n",
              "      <td>White</td>\n",
              "      <td>Female</td>\n",
              "      <td>0</td>\n",
              "      <td>4356</td>\n",
              "      <td>40</td>\n",
              "      <td>United-States</td>\n",
              "      <td>&lt;=50K</td>\n",
              "      <td>0.0</td>\n",
              "    </tr>\n",
              "    <tr>\n",
              "      <th>1</th>\n",
              "      <td>82</td>\n",
              "      <td>Private</td>\n",
              "      <td>132870</td>\n",
              "      <td>HS-grad</td>\n",
              "      <td>9</td>\n",
              "      <td>Widowed</td>\n",
              "      <td>Exec-managerial</td>\n",
              "      <td>Not-in-family</td>\n",
              "      <td>White</td>\n",
              "      <td>Female</td>\n",
              "      <td>0</td>\n",
              "      <td>4356</td>\n",
              "      <td>18</td>\n",
              "      <td>United-States</td>\n",
              "      <td>&lt;=50K</td>\n",
              "      <td>0.0</td>\n",
              "    </tr>\n",
              "    <tr>\n",
              "      <th>2</th>\n",
              "      <td>66</td>\n",
              "      <td>?</td>\n",
              "      <td>186061</td>\n",
              "      <td>Some-college</td>\n",
              "      <td>10</td>\n",
              "      <td>Widowed</td>\n",
              "      <td>?</td>\n",
              "      <td>Unmarried</td>\n",
              "      <td>Black</td>\n",
              "      <td>Female</td>\n",
              "      <td>0</td>\n",
              "      <td>4356</td>\n",
              "      <td>40</td>\n",
              "      <td>United-States</td>\n",
              "      <td>&lt;=50K</td>\n",
              "      <td>0.0</td>\n",
              "    </tr>\n",
              "    <tr>\n",
              "      <th>3</th>\n",
              "      <td>54</td>\n",
              "      <td>Private</td>\n",
              "      <td>140359</td>\n",
              "      <td>7th-8th</td>\n",
              "      <td>4</td>\n",
              "      <td>Divorced</td>\n",
              "      <td>Machine-op-inspct</td>\n",
              "      <td>Unmarried</td>\n",
              "      <td>White</td>\n",
              "      <td>Female</td>\n",
              "      <td>0</td>\n",
              "      <td>3900</td>\n",
              "      <td>40</td>\n",
              "      <td>United-States</td>\n",
              "      <td>&lt;=50K</td>\n",
              "      <td>0.0</td>\n",
              "    </tr>\n",
              "    <tr>\n",
              "      <th>4</th>\n",
              "      <td>41</td>\n",
              "      <td>Private</td>\n",
              "      <td>264663</td>\n",
              "      <td>Some-college</td>\n",
              "      <td>10</td>\n",
              "      <td>Separated</td>\n",
              "      <td>Prof-specialty</td>\n",
              "      <td>Own-child</td>\n",
              "      <td>White</td>\n",
              "      <td>Female</td>\n",
              "      <td>0</td>\n",
              "      <td>3900</td>\n",
              "      <td>40</td>\n",
              "      <td>United-States</td>\n",
              "      <td>&lt;=50K</td>\n",
              "      <td>0.0</td>\n",
              "    </tr>\n",
              "  </tbody>\n",
              "</table>\n",
              "</div>\n",
              "      <button class=\"colab-df-convert\" onclick=\"convertToInteractive('df-09479606-3932-420b-bf85-041af0710131')\"\n",
              "              title=\"Convert this dataframe to an interactive table.\"\n",
              "              style=\"display:none;\">\n",
              "        \n",
              "  <svg xmlns=\"http://www.w3.org/2000/svg\" height=\"24px\"viewBox=\"0 0 24 24\"\n",
              "       width=\"24px\">\n",
              "    <path d=\"M0 0h24v24H0V0z\" fill=\"none\"/>\n",
              "    <path d=\"M18.56 5.44l.94 2.06.94-2.06 2.06-.94-2.06-.94-.94-2.06-.94 2.06-2.06.94zm-11 1L8.5 8.5l.94-2.06 2.06-.94-2.06-.94L8.5 2.5l-.94 2.06-2.06.94zm10 10l.94 2.06.94-2.06 2.06-.94-2.06-.94-.94-2.06-.94 2.06-2.06.94z\"/><path d=\"M17.41 7.96l-1.37-1.37c-.4-.4-.92-.59-1.43-.59-.52 0-1.04.2-1.43.59L10.3 9.45l-7.72 7.72c-.78.78-.78 2.05 0 2.83L4 21.41c.39.39.9.59 1.41.59.51 0 1.02-.2 1.41-.59l7.78-7.78 2.81-2.81c.8-.78.8-2.07 0-2.86zM5.41 20L4 18.59l7.72-7.72 1.47 1.35L5.41 20z\"/>\n",
              "  </svg>\n",
              "      </button>\n",
              "      \n",
              "  <style>\n",
              "    .colab-df-container {\n",
              "      display:flex;\n",
              "      flex-wrap:wrap;\n",
              "      gap: 12px;\n",
              "    }\n",
              "\n",
              "    .colab-df-convert {\n",
              "      background-color: #E8F0FE;\n",
              "      border: none;\n",
              "      border-radius: 50%;\n",
              "      cursor: pointer;\n",
              "      display: none;\n",
              "      fill: #1967D2;\n",
              "      height: 32px;\n",
              "      padding: 0 0 0 0;\n",
              "      width: 32px;\n",
              "    }\n",
              "\n",
              "    .colab-df-convert:hover {\n",
              "      background-color: #E2EBFA;\n",
              "      box-shadow: 0px 1px 2px rgba(60, 64, 67, 0.3), 0px 1px 3px 1px rgba(60, 64, 67, 0.15);\n",
              "      fill: #174EA6;\n",
              "    }\n",
              "\n",
              "    [theme=dark] .colab-df-convert {\n",
              "      background-color: #3B4455;\n",
              "      fill: #D2E3FC;\n",
              "    }\n",
              "\n",
              "    [theme=dark] .colab-df-convert:hover {\n",
              "      background-color: #434B5C;\n",
              "      box-shadow: 0px 1px 3px 1px rgba(0, 0, 0, 0.15);\n",
              "      filter: drop-shadow(0px 1px 2px rgba(0, 0, 0, 0.3));\n",
              "      fill: #FFFFFF;\n",
              "    }\n",
              "  </style>\n",
              "\n",
              "      <script>\n",
              "        const buttonEl =\n",
              "          document.querySelector('#df-09479606-3932-420b-bf85-041af0710131 button.colab-df-convert');\n",
              "        buttonEl.style.display =\n",
              "          google.colab.kernel.accessAllowed ? 'block' : 'none';\n",
              "\n",
              "        async function convertToInteractive(key) {\n",
              "          const element = document.querySelector('#df-09479606-3932-420b-bf85-041af0710131');\n",
              "          const dataTable =\n",
              "            await google.colab.kernel.invokeFunction('convertToInteractive',\n",
              "                                                     [key], {});\n",
              "          if (!dataTable) return;\n",
              "\n",
              "          const docLinkHtml = 'Like what you see? Visit the ' +\n",
              "            '<a target=\"_blank\" href=https://colab.research.google.com/notebooks/data_table.ipynb>data table notebook</a>'\n",
              "            + ' to learn more about interactive tables.';\n",
              "          element.innerHTML = '';\n",
              "          dataTable['output_type'] = 'display_data';\n",
              "          await google.colab.output.renderOutput(dataTable, element);\n",
              "          const docLink = document.createElement('div');\n",
              "          docLink.innerHTML = docLinkHtml;\n",
              "          element.appendChild(docLink);\n",
              "        }\n",
              "      </script>\n",
              "    </div>\n",
              "  </div>\n",
              "  "
            ]
          },
          "metadata": {},
          "execution_count": 45
        }
      ]
    },
    {
      "cell_type": "code",
      "source": [
        "adult_df.info()"
      ],
      "metadata": {
        "colab": {
          "base_uri": "https://localhost:8080/"
        },
        "id": "_ket8ectDEMA",
        "outputId": "9e604967-cb94-43ec-fa72-720b11faab56"
      },
      "execution_count": null,
      "outputs": [
        {
          "output_type": "stream",
          "name": "stdout",
          "text": [
            "<class 'pandas.core.frame.DataFrame'>\n",
            "RangeIndex: 46303 entries, 0 to 46302\n",
            "Data columns (total 16 columns):\n",
            " #   Column          Non-Null Count  Dtype  \n",
            "---  ------          --------------  -----  \n",
            " 0   age             46303 non-null  int64  \n",
            " 1   workclass       46303 non-null  object \n",
            " 2   fnlwgt          46303 non-null  int64  \n",
            " 3   education       46303 non-null  object \n",
            " 4   education.num   46303 non-null  object \n",
            " 5   marital.status  46303 non-null  object \n",
            " 6   occupation      46303 non-null  object \n",
            " 7   relationship    46303 non-null  object \n",
            " 8   race            46303 non-null  object \n",
            " 9   sex             46303 non-null  object \n",
            " 10  capital.gain    46303 non-null  int64  \n",
            " 11  capital.loss    46303 non-null  object \n",
            " 12  hours.per.week  46303 non-null  object \n",
            " 13  native.country  46303 non-null  object \n",
            " 14  income          46302 non-null  object \n",
            " 15  Label           46302 non-null  float64\n",
            "dtypes: float64(1), int64(3), object(12)\n",
            "memory usage: 5.7+ MB\n"
          ]
        }
      ]
    },
    {
      "cell_type": "code",
      "source": [
        "adult_df.describe()"
      ],
      "metadata": {
        "colab": {
          "base_uri": "https://localhost:8080/",
          "height": 300
        },
        "id": "qjItVYZuDEJT",
        "outputId": "c67e28fe-2437-438e-e2cc-67982df4e6e0"
      },
      "execution_count": null,
      "outputs": [
        {
          "output_type": "execute_result",
          "data": {
            "text/plain": [
              "                age        fnlwgt  capital.gain         Label\n",
              "count  46303.000000  4.630300e+04  46303.000000  46302.000000\n",
              "mean      38.382178  1.896699e+05    757.820530      0.226124\n",
              "std       13.623544  1.056792e+05   6212.664575      0.418325\n",
              "min        8.000000  6.000000e+00      0.000000      0.000000\n",
              "25%       27.000000  1.176180e+05      0.000000      0.000000\n",
              "50%       37.000000  1.784170e+05      0.000000      0.000000\n",
              "75%       47.000000  2.368595e+05      0.000000      0.000000\n",
              "max       90.000000  1.484705e+06  99999.000000      1.000000"
            ],
            "text/html": [
              "\n",
              "  <div id=\"df-5e78ca3c-7452-4218-a8cb-fb618981d23f\">\n",
              "    <div class=\"colab-df-container\">\n",
              "      <div>\n",
              "<style scoped>\n",
              "    .dataframe tbody tr th:only-of-type {\n",
              "        vertical-align: middle;\n",
              "    }\n",
              "\n",
              "    .dataframe tbody tr th {\n",
              "        vertical-align: top;\n",
              "    }\n",
              "\n",
              "    .dataframe thead th {\n",
              "        text-align: right;\n",
              "    }\n",
              "</style>\n",
              "<table border=\"1\" class=\"dataframe\">\n",
              "  <thead>\n",
              "    <tr style=\"text-align: right;\">\n",
              "      <th></th>\n",
              "      <th>age</th>\n",
              "      <th>fnlwgt</th>\n",
              "      <th>capital.gain</th>\n",
              "      <th>Label</th>\n",
              "    </tr>\n",
              "  </thead>\n",
              "  <tbody>\n",
              "    <tr>\n",
              "      <th>count</th>\n",
              "      <td>46303.000000</td>\n",
              "      <td>4.630300e+04</td>\n",
              "      <td>46303.000000</td>\n",
              "      <td>46302.000000</td>\n",
              "    </tr>\n",
              "    <tr>\n",
              "      <th>mean</th>\n",
              "      <td>38.382178</td>\n",
              "      <td>1.896699e+05</td>\n",
              "      <td>757.820530</td>\n",
              "      <td>0.226124</td>\n",
              "    </tr>\n",
              "    <tr>\n",
              "      <th>std</th>\n",
              "      <td>13.623544</td>\n",
              "      <td>1.056792e+05</td>\n",
              "      <td>6212.664575</td>\n",
              "      <td>0.418325</td>\n",
              "    </tr>\n",
              "    <tr>\n",
              "      <th>min</th>\n",
              "      <td>8.000000</td>\n",
              "      <td>6.000000e+00</td>\n",
              "      <td>0.000000</td>\n",
              "      <td>0.000000</td>\n",
              "    </tr>\n",
              "    <tr>\n",
              "      <th>25%</th>\n",
              "      <td>27.000000</td>\n",
              "      <td>1.176180e+05</td>\n",
              "      <td>0.000000</td>\n",
              "      <td>0.000000</td>\n",
              "    </tr>\n",
              "    <tr>\n",
              "      <th>50%</th>\n",
              "      <td>37.000000</td>\n",
              "      <td>1.784170e+05</td>\n",
              "      <td>0.000000</td>\n",
              "      <td>0.000000</td>\n",
              "    </tr>\n",
              "    <tr>\n",
              "      <th>75%</th>\n",
              "      <td>47.000000</td>\n",
              "      <td>2.368595e+05</td>\n",
              "      <td>0.000000</td>\n",
              "      <td>0.000000</td>\n",
              "    </tr>\n",
              "    <tr>\n",
              "      <th>max</th>\n",
              "      <td>90.000000</td>\n",
              "      <td>1.484705e+06</td>\n",
              "      <td>99999.000000</td>\n",
              "      <td>1.000000</td>\n",
              "    </tr>\n",
              "  </tbody>\n",
              "</table>\n",
              "</div>\n",
              "      <button class=\"colab-df-convert\" onclick=\"convertToInteractive('df-5e78ca3c-7452-4218-a8cb-fb618981d23f')\"\n",
              "              title=\"Convert this dataframe to an interactive table.\"\n",
              "              style=\"display:none;\">\n",
              "        \n",
              "  <svg xmlns=\"http://www.w3.org/2000/svg\" height=\"24px\"viewBox=\"0 0 24 24\"\n",
              "       width=\"24px\">\n",
              "    <path d=\"M0 0h24v24H0V0z\" fill=\"none\"/>\n",
              "    <path d=\"M18.56 5.44l.94 2.06.94-2.06 2.06-.94-2.06-.94-.94-2.06-.94 2.06-2.06.94zm-11 1L8.5 8.5l.94-2.06 2.06-.94-2.06-.94L8.5 2.5l-.94 2.06-2.06.94zm10 10l.94 2.06.94-2.06 2.06-.94-2.06-.94-.94-2.06-.94 2.06-2.06.94z\"/><path d=\"M17.41 7.96l-1.37-1.37c-.4-.4-.92-.59-1.43-.59-.52 0-1.04.2-1.43.59L10.3 9.45l-7.72 7.72c-.78.78-.78 2.05 0 2.83L4 21.41c.39.39.9.59 1.41.59.51 0 1.02-.2 1.41-.59l7.78-7.78 2.81-2.81c.8-.78.8-2.07 0-2.86zM5.41 20L4 18.59l7.72-7.72 1.47 1.35L5.41 20z\"/>\n",
              "  </svg>\n",
              "      </button>\n",
              "      \n",
              "  <style>\n",
              "    .colab-df-container {\n",
              "      display:flex;\n",
              "      flex-wrap:wrap;\n",
              "      gap: 12px;\n",
              "    }\n",
              "\n",
              "    .colab-df-convert {\n",
              "      background-color: #E8F0FE;\n",
              "      border: none;\n",
              "      border-radius: 50%;\n",
              "      cursor: pointer;\n",
              "      display: none;\n",
              "      fill: #1967D2;\n",
              "      height: 32px;\n",
              "      padding: 0 0 0 0;\n",
              "      width: 32px;\n",
              "    }\n",
              "\n",
              "    .colab-df-convert:hover {\n",
              "      background-color: #E2EBFA;\n",
              "      box-shadow: 0px 1px 2px rgba(60, 64, 67, 0.3), 0px 1px 3px 1px rgba(60, 64, 67, 0.15);\n",
              "      fill: #174EA6;\n",
              "    }\n",
              "\n",
              "    [theme=dark] .colab-df-convert {\n",
              "      background-color: #3B4455;\n",
              "      fill: #D2E3FC;\n",
              "    }\n",
              "\n",
              "    [theme=dark] .colab-df-convert:hover {\n",
              "      background-color: #434B5C;\n",
              "      box-shadow: 0px 1px 3px 1px rgba(0, 0, 0, 0.15);\n",
              "      filter: drop-shadow(0px 1px 2px rgba(0, 0, 0, 0.3));\n",
              "      fill: #FFFFFF;\n",
              "    }\n",
              "  </style>\n",
              "\n",
              "      <script>\n",
              "        const buttonEl =\n",
              "          document.querySelector('#df-5e78ca3c-7452-4218-a8cb-fb618981d23f button.colab-df-convert');\n",
              "        buttonEl.style.display =\n",
              "          google.colab.kernel.accessAllowed ? 'block' : 'none';\n",
              "\n",
              "        async function convertToInteractive(key) {\n",
              "          const element = document.querySelector('#df-5e78ca3c-7452-4218-a8cb-fb618981d23f');\n",
              "          const dataTable =\n",
              "            await google.colab.kernel.invokeFunction('convertToInteractive',\n",
              "                                                     [key], {});\n",
              "          if (!dataTable) return;\n",
              "\n",
              "          const docLinkHtml = 'Like what you see? Visit the ' +\n",
              "            '<a target=\"_blank\" href=https://colab.research.google.com/notebooks/data_table.ipynb>data table notebook</a>'\n",
              "            + ' to learn more about interactive tables.';\n",
              "          element.innerHTML = '';\n",
              "          dataTable['output_type'] = 'display_data';\n",
              "          await google.colab.output.renderOutput(dataTable, element);\n",
              "          const docLink = document.createElement('div');\n",
              "          docLink.innerHTML = docLinkHtml;\n",
              "          element.appendChild(docLink);\n",
              "        }\n",
              "      </script>\n",
              "    </div>\n",
              "  </div>\n",
              "  "
            ]
          },
          "metadata": {},
          "execution_count": 47
        }
      ]
    },
    {
      "cell_type": "code",
      "source": [
        "cat_col = adult_df.dtypes[adult_df.dtypes == \"object\"]\n",
        "num_col = adult_df.dtypes[adult_df.dtypes != \"object\"]\n"
      ],
      "metadata": {
        "id": "CtTpcMnnDEGw"
      },
      "execution_count": null,
      "outputs": []
    },
    {
      "cell_type": "code",
      "source": [
        "#Categorical\n",
        "print(cat_col)\n",
        "#Numerical\n",
        "print(num_col)"
      ],
      "metadata": {
        "colab": {
          "base_uri": "https://localhost:8080/",
          "height": 1000
        },
        "id": "MSAsSDFrDED9",
        "outputId": "fcac6d8d-4140-4788-b225-f0d3024ad48a"
      },
      "execution_count": null,
      "outputs": [
        {
          "output_type": "error",
          "ename": "NameError",
          "evalue": "ignored",
          "traceback": [
            "\u001b[0;31m---------------------------------------------------------------------------\u001b[0m",
            "\u001b[0;31mNameError\u001b[0m                                 Traceback (most recent call last)",
            "\u001b[0;32m<ipython-input-1-c0387a3e3db4>\u001b[0m in \u001b[0;36m<module>\u001b[0;34m\u001b[0m\n\u001b[1;32m      1\u001b[0m \u001b[0;31m#Categorical\u001b[0m\u001b[0;34m\u001b[0m\u001b[0;34m\u001b[0m\u001b[0;34m\u001b[0m\u001b[0m\n\u001b[0;32m----> 2\u001b[0;31m \u001b[0mprint\u001b[0m\u001b[0;34m(\u001b[0m\u001b[0mcat_col\u001b[0m\u001b[0;34m)\u001b[0m\u001b[0;34m\u001b[0m\u001b[0;34m\u001b[0m\u001b[0m\n\u001b[0m\u001b[1;32m      3\u001b[0m \u001b[0;31m#Numerical\u001b[0m\u001b[0;34m\u001b[0m\u001b[0;34m\u001b[0m\u001b[0;34m\u001b[0m\u001b[0m\n\u001b[1;32m      4\u001b[0m \u001b[0mprint\u001b[0m\u001b[0;34m(\u001b[0m\u001b[0mnum_col\u001b[0m\u001b[0;34m)\u001b[0m\u001b[0;34m\u001b[0m\u001b[0;34m\u001b[0m\u001b[0m\n",
            "\u001b[0;31mNameError\u001b[0m: name 'cat_col' is not defined"
          ]
        }
      ]
    },
    {
      "cell_type": "code",
      "source": [
        "adult_df.isnull().sum()"
      ],
      "metadata": {
        "colab": {
          "base_uri": "https://localhost:8080/"
        },
        "id": "uOUcV2cMDEBM",
        "outputId": "14c998e8-05c7-4dd4-9894-0b49a91d5edb"
      },
      "execution_count": null,
      "outputs": [
        {
          "output_type": "execute_result",
          "data": {
            "text/plain": [
              "age               0\n",
              "workclass         0\n",
              "fnlwgt            0\n",
              "education         0\n",
              "education.num     0\n",
              "marital.status    0\n",
              "occupation        0\n",
              "relationship      0\n",
              "race              0\n",
              "sex               0\n",
              "capital.gain      0\n",
              "capital.loss      0\n",
              "hours.per.week    0\n",
              "native.country    0\n",
              "income            1\n",
              "Label             1\n",
              "dtype: int64"
            ]
          },
          "metadata": {},
          "execution_count": 50
        }
      ]
    },
    {
      "cell_type": "code",
      "source": [
        "for col in list(cat_col.index):\n",
        "    print(f\"--------------------{col.title()}-------------------------\")\n",
        "    total= adult_df[col].value_counts()\n",
        "    percent = adult_df[col].value_counts() / adult_df.shape[0]\n",
        "    df = pd.concat([total,percent],keys = ['total','percent'],axis = 1)\n",
        "    print(df)\n",
        "    print('\\n')"
      ],
      "metadata": {
        "colab": {
          "base_uri": "https://localhost:8080/"
        },
        "id": "xYSfmNTsDD-l",
        "outputId": "0b6fd6ea-ac31-4bfb-9d5b-cee5b755623f"
      },
      "execution_count": null,
      "outputs": [
        {
          "output_type": "stream",
          "name": "stdout",
          "text": [
            "--------------------Workclass-------------------------\n",
            "                  total   percent\n",
            "Private           32407  0.699890\n",
            "Self-emp-not-inc   3537  0.076388\n",
            "Local-gov          2980  0.064359\n",
            "?                  2637  0.056951\n",
            "State-gov          1838  0.039695\n",
            "Self-emp-inc       1521  0.032849\n",
            "Federal-gov        1348  0.029113\n",
            "Without-pay          23  0.000497\n",
            "Never-worked         11  0.000238\n",
            "10th                  1  0.000022\n",
            "\n",
            "\n",
            "--------------------Education-------------------------\n",
            "               total   percent\n",
            "HS-grad        15015  0.324277\n",
            "Some-college   10444  0.225558\n",
            "Bachelors       7464  0.161199\n",
            "Masters         2347  0.050688\n",
            "Assoc-voc       1963  0.042395\n",
            "11th            1704  0.036801\n",
            "Assoc-acdm      1534  0.033130\n",
            "10th            1359  0.029350\n",
            "7th-8th          933  0.020150\n",
            "Prof-school      762  0.016457\n",
            "9th              759  0.016392\n",
            "12th             657  0.014189\n",
            "Doctorate        553  0.011943\n",
            "5th-6th          485  0.010474\n",
            "1st-4th          246  0.005313\n",
            "Preschool         77  0.001663\n",
            "Never-married      1  0.000022\n",
            "\n",
            "\n",
            "--------------------Education.Num-------------------------\n",
            "              total   percent\n",
            "9             10566  0.228193\n",
            "10             7333  0.158370\n",
            "13             5393  0.116472\n",
            "9              4449  0.096084\n",
            "10             3111  0.067188\n",
            "13             2071  0.044727\n",
            "14             1734  0.037449\n",
            "11             1390  0.030020\n",
            "7              1184  0.025571\n",
            "12             1075  0.023217\n",
            "6               938  0.020258\n",
            "4               650  0.014038\n",
            "14              613  0.013239\n",
            "15              577  0.012461\n",
            "11              573  0.012375\n",
            "5               521  0.011252\n",
            "7               520  0.011230\n",
            "12              459  0.009913\n",
            "8               438  0.009459\n",
            "6               421  0.009092\n",
            "16              414  0.008941\n",
            "3               334  0.007213\n",
            "4               283  0.006112\n",
            "5               238  0.005140\n",
            "8               219  0.004730\n",
            "15              185  0.003995\n",
            "2               169  0.003650\n",
            "3               151  0.003261\n",
            "16              139  0.003002\n",
            "2                77  0.001663\n",
            "1                51  0.001101\n",
            "1                26  0.000562\n",
            "Craft-repair      1  0.000022\n",
            "\n",
            "\n",
            "--------------------Marital.Status-------------------------\n",
            "                       total   percent\n",
            "Married-civ-spouse     20904  0.451461\n",
            "Never-married          15464  0.333974\n",
            "Divorced                6391  0.138026\n",
            "Separated               1485  0.032071\n",
            "Widowed                 1421  0.030689\n",
            "Married-spouse-absent    605  0.013066\n",
            "Married-AF-spouse         32  0.000691\n",
            "Not-in-family              1  0.000022\n",
            "\n",
            "\n",
            "--------------------Occupation-------------------------\n",
            "                   total   percent\n",
            "Craft-repair        5860  0.126558\n",
            "Prof-specialty      5736  0.123880\n",
            "Exec-managerial     5661  0.122260\n",
            "Adm-clerical        5348  0.115500\n",
            "Sales               5130  0.110792\n",
            "Other-service       4810  0.103881\n",
            "Machine-op-inspct   2868  0.061940\n",
            "?                   2648  0.057189\n",
            "Transport-moving    2271  0.049046\n",
            "Handlers-cleaners   2034  0.043928\n",
            "Farming-fishing     1449  0.031294\n",
            "Tech-support        1340  0.028940\n",
            "Protective-serv      925  0.019977\n",
            "Priv-house-serv      209  0.004514\n",
            "Armed-Forces          13  0.000281\n",
            "White                  1  0.000022\n",
            "\n",
            "\n",
            "--------------------Relationship-------------------------\n",
            "                total   percent\n",
            "Husband         18434  0.398117\n",
            "Not-in-family   11872  0.256398\n",
            "Own-child        7392  0.159644\n",
            "Unmarried        5009  0.108179\n",
            "Wife             2157  0.046584\n",
            "Other-relative   1438  0.031056\n",
            "Male                1  0.000022\n",
            "\n",
            "\n",
            "--------------------Race-------------------------\n",
            "                    total   percent\n",
            "White               39468  0.852385\n",
            "Black                4491  0.096992\n",
            "Asian-Pac-Islander   1489  0.032158\n",
            "Amer-Indian-Eskimo    457  0.009870\n",
            "Other                 397  0.008574\n",
            "0                       1  0.000022\n",
            "\n",
            "\n",
            "--------------------Sex-------------------------\n",
            "        total   percent\n",
            "Male    30774  0.664622\n",
            "Female  15528  0.335356\n",
            "0           1  0.000022\n",
            "\n",
            "\n",
            "--------------------Capital.Loss-------------------------\n",
            "        total   percent\n",
            "0       31248  0.674859\n",
            "0       13535  0.292314\n",
            "1902      202  0.004363\n",
            "1977      168  0.003628\n",
            "1887      159  0.003434\n",
            "...       ...       ...\n",
            "2489        1  0.000022\n",
            "155         1  0.000022\n",
            "2201        1  0.000022\n",
            "Greece      1  0.000022\n",
            "1411        1  0.000022\n",
            "\n",
            "[94 rows x 2 columns]\n",
            "\n",
            "\n",
            "--------------------Hours.Per.Week-------------------------\n",
            "       total   percent\n",
            "40     15325  0.330972\n",
            "40      6416  0.138566\n",
            "50      2832  0.061162\n",
            "45      1834  0.039609\n",
            "60      1479  0.031942\n",
            "...      ...       ...\n",
            "<=50K      1  0.000022\n",
            "87         1  0.000022\n",
            "94         1  0.000022\n",
            "82         1  0.000022\n",
            "89         1  0.000022\n",
            "\n",
            "[184 rows x 2 columns]\n",
            "\n",
            "\n",
            "--------------------Native.Country-------------------------\n",
            "                            total   percent\n",
            "United-States               41469  0.895601\n",
            "Mexico                        943  0.020366\n",
            "?                             819  0.017688\n",
            "Philippines                   283  0.006112\n",
            "Germany                       192  0.004147\n",
            "Canada                        168  0.003628\n",
            "El-Salvador                   158  0.003412\n",
            "Puerto-Rico                   157  0.003391\n",
            "India                         141  0.003045\n",
            "Cuba                          135  0.002916\n",
            "England                       121  0.002613\n",
            "Jamaica                       113  0.002440\n",
            "South                         110  0.002376\n",
            "Italy                         106  0.002289\n",
            "Dominican-Republic            105  0.002268\n",
            "China                         103  0.002224\n",
            "Vietnam                        95  0.002052\n",
            "Guatemala                      88  0.001901\n",
            "Columbia                       87  0.001879\n",
            "Japan                          84  0.001814\n",
            "Poland                         79  0.001706\n",
            "Taiwan                         73  0.001577\n",
            "Haiti                          62  0.001339\n",
            "Iran                           56  0.001209\n",
            "Nicaragua                      52  0.001123\n",
            "Portugal                       51  0.001101\n",
            "Peru                           47  0.001015\n",
            "France                         45  0.000972\n",
            "Ecuador                        41  0.000885\n",
            "Greece                         35  0.000756\n",
            "Ireland                        33  0.000713\n",
            "Hong                           32  0.000691\n",
            "Laos                           30  0.000648\n",
            "Trinadad&Tobago                29  0.000626\n",
            "Thailand                       27  0.000583\n",
            "Cambodia                       26  0.000562\n",
            "Yugoslavia                     25  0.000540\n",
            "Outlying-US(Guam-USVI-etc)     22  0.000475\n",
            "Honduras                       20  0.000432\n",
            "Hungary                        20  0.000432\n",
            "Scotland                       19  0.000410\n",
            "Holand-Netherlands              1  0.000022\n",
            "0                               1  0.000022\n",
            "\n",
            "\n",
            "--------------------Income-------------------------\n",
            "       total   percent\n",
            "<=50K  35832  0.773859\n",
            ">50K   10470  0.226119\n",
            "\n",
            "\n"
          ]
        }
      ]
    },
    {
      "cell_type": "code",
      "source": [
        "edit_cols = ['native.country','occupation','workclass']\n",
        "# Replace ? with Unknown\n",
        "for col in edit_cols:\n",
        "    adult_df.loc[adult_df[col] == '?', col] = 'unknown'\n",
        "# Check if ? is present\n",
        "for col in edit_cols:\n",
        "    print(f\"? in {col}: {adult_df[(adult_df[col] == '?')].any().sum()}\")"
      ],
      "metadata": {
        "colab": {
          "base_uri": "https://localhost:8080/"
        },
        "id": "bgJSOL4YMg0Q",
        "outputId": "55738a9b-37b5-4bc8-9a4b-1e2cfc54fe6d"
      },
      "execution_count": null,
      "outputs": [
        {
          "output_type": "stream",
          "name": "stdout",
          "text": [
            "? in native.country: 0\n",
            "? in occupation: 0\n",
            "? in workclass: 0\n"
          ]
        }
      ]
    },
    {
      "cell_type": "code",
      "source": [
        "from pyparsing import replace_with\n",
        "hs_grad = ['HS-grad','11th','10th','9th','12th']\n",
        "elementary = ['1st-4th','5th-6th','7th-8th','Preschool']\n",
        "\n",
        "#Replace\n",
        "adult_df['education'].replace(to_replace = hs_grad, value = 'Hs-Grad' , inplace = True)\n",
        "adult_df['education'].replace(to_replace = elementary, value = 'elementary_school', inplace = True)\n",
        "\n",
        "adult_df['education'].value_counts()"
      ],
      "metadata": {
        "colab": {
          "base_uri": "https://localhost:8080/"
        },
        "id": "G0AHjMkwNLac",
        "outputId": "fb538b8e-d263-4742-ca47-6a8f5c8b1584"
      },
      "execution_count": null,
      "outputs": [
        {
          "output_type": "execute_result",
          "data": {
            "text/plain": [
              "Hs-Grad              19494\n",
              "Some-college         10444\n",
              "Bachelors             7464\n",
              "Masters               2347\n",
              "Assoc-voc             1963\n",
              "elementary_school     1741\n",
              "Assoc-acdm            1534\n",
              "Prof-school            762\n",
              "Doctorate              553\n",
              "Never-married            1\n",
              "Name: education, dtype: int64"
            ]
          },
          "metadata": {},
          "execution_count": 53
        }
      ]
    },
    {
      "cell_type": "code",
      "source": [
        "married= ['Married-spouse-absent','Married-civ-spouse','Married-AF-spouse']\n",
        "separated = ['Separated','Divorced']\n",
        "\n",
        "#replace elements in list.\n",
        "adult_df['marital.status'].replace(to_replace = married ,value = 'Married',inplace = True)\n",
        "adult_df['marital.status'].replace(to_replace = separated,value = 'Separated',inplace = True)\n",
        "\n",
        "adult_df['marital.status'].value_counts()"
      ],
      "metadata": {
        "colab": {
          "base_uri": "https://localhost:8080/"
        },
        "id": "xuTD0DxzPJHt",
        "outputId": "40dde887-226b-42bb-8ac9-9c45c5919dfe"
      },
      "execution_count": null,
      "outputs": [
        {
          "output_type": "execute_result",
          "data": {
            "text/plain": [
              "Married          21541\n",
              "Never-married    15464\n",
              "Separated         7876\n",
              "Widowed           1421\n",
              "Not-in-family        1\n",
              "Name: marital.status, dtype: int64"
            ]
          },
          "metadata": {},
          "execution_count": 54
        }
      ]
    },
    {
      "cell_type": "code",
      "source": [
        "self_employed = ['Self-emp-not-inc','Self-emp-inc']\n",
        "govt_employees = ['Local-gov','State-gov','Federal-gov']\n",
        "\n",
        "#replace elements in list.\n",
        "adult_df['workclass'].replace(to_replace = self_employed ,value = 'Self_employed',inplace = True)\n",
        "adult_df['workclass'].replace(to_replace = govt_employees,value = 'Govt_employees',inplace = True)\n",
        "\n",
        "adult_df['workclass'].value_counts()"
      ],
      "metadata": {
        "colab": {
          "base_uri": "https://localhost:8080/"
        },
        "id": "2kKLAoMzPo1Z",
        "outputId": "198ccb48-0936-4de7-f84d-06d9dd81becf"
      },
      "execution_count": null,
      "outputs": [
        {
          "output_type": "execute_result",
          "data": {
            "text/plain": [
              "Private           32407\n",
              "Govt_employees     6166\n",
              "Self_employed      5058\n",
              "unknown            2637\n",
              "Without-pay          23\n",
              "Never-worked         11\n",
              "10th                  1\n",
              "Name: workclass, dtype: int64"
            ]
          },
          "metadata": {},
          "execution_count": 55
        }
      ]
    },
    {
      "cell_type": "code",
      "source": [
        "plt.figure(figsize =(12,6));\n",
        "sns.countplot(x = 'income', data = adult_df);\n",
        "plt.xlabel(\"Income\",fontsize = 12);\n",
        "plt.ylabel(\"Frequency\",fontsize = 12);"
      ],
      "metadata": {
        "colab": {
          "base_uri": "https://localhost:8080/",
          "height": 391
        },
        "id": "qXp1kJflPsVx",
        "outputId": "d8d3dac3-5fce-4f91-a18d-5f043eaa10cb"
      },
      "execution_count": null,
      "outputs": [
        {
          "output_type": "display_data",
          "data": {
            "text/plain": [
              "<Figure size 864x432 with 1 Axes>"
            ],
            "image/png": "[encoded data removed]"
          },
          "metadata": {
            "needs_background": "light"
          }
        }
      ]
    },
    {
      "cell_type": "code",
      "source": [
        "#split dataset in features and target variable\n",
        "feature_cols = ['workclass', 'education', 'marital.status', 'occupation','relationship','sex','hours.per.week']\n",
        "X = adult_df[feature_cols] # Features\n",
        "y = adult_df.Label # Target variable\n",
        "\n",
        "# plt.plot(X, y)\n",
        "\n",
        "\n"
      ],
      "metadata": {
        "id": "AjC05nOXPv5Z"
      },
      "execution_count": null,
      "outputs": []
    },
    {
      "cell_type": "code",
      "source": [
        "from sklearn.preprocessing import LabelEncoder\n",
        "Le = LabelEncoder()"
      ],
      "metadata": {
        "id": "MV3TsSCSct1j"
      },
      "execution_count": null,
      "outputs": []
    },
    {
      "cell_type": "code",
      "source": [
        "adult_df['workclass'] = Le.fit_transform(adult_df['workclass'])\n",
        "adult_df['education'] = Le.fit_transform(adult_df['education'])\n",
        "adult_df['marital.status'] = Le.fit_transform(adult_df['marital.status'])\n",
        "adult_df['occupation'] = Le.fit_transform(adult_df['occupation'])\n",
        "adult_df['relationship'] = Le.fit_transform(adult_df['relationship'])\n",
        "adult_df['sex'] = Le.fit_transform(adult_df['sex'])\n",
        "adult_df['income'] = Le.fit_transform(adult_df['income'])\n",
        "\n"
      ],
      "metadata": {
        "id": "3RGPuK8rYmhn"
      },
      "execution_count": null,
      "outputs": []
    },
    {
      "cell_type": "code",
      "source": [
        "feature_cols = ['workclass', 'education', 'marital.status', 'occupation','relationship','sex','hours.per.week']\n",
        "X = adult_df[feature_cols] # Features\n",
        "y = adult_df.Label # Target variable\n"
      ],
      "metadata": {
        "id": "sGP6rYRhmSTE"
      },
      "execution_count": null,
      "outputs": []
    },
    {
      "cell_type": "code",
      "source": [
        "print(adult_df)"
      ],
      "metadata": {
        "colab": {
          "base_uri": "https://localhost:8080/"
        },
        "id": "M9I2RPbvl_GC",
        "outputId": "d54cbd08-d2bd-4d15-cc7a-a3ecefbd6def"
      },
      "execution_count": null,
      "outputs": [
        {
          "output_type": "stream",
          "name": "stdout",
          "text": [
            "       age  workclass  fnlwgt  education education.num  marital.status  \\\n",
            "0       90          6   77053          4             9               4   \n",
            "1       82          3  132870          4             9               4   \n",
            "2       66          6  186061          8            10               4   \n",
            "3       54          3  140359          9             4               3   \n",
            "4       41          3  264663          8            10               3   \n",
            "...    ...        ...     ...        ...           ...             ...   \n",
            "46298   22          3  310152          8            10               1   \n",
            "46299   27          3  257302          0            12               0   \n",
            "46300   40          3  154374          4             9               0   \n",
            "46301   58          3  151910          4             9               4   \n",
            "46302   22          3  201490          4             9               1   \n",
            "\n",
            "       occupation  relationship   race  sex  capital.gain capital.loss  \\\n",
            "0              15             2  White    1             0         4356   \n",
            "1               3             2  White    1             0         4356   \n",
            "2              15             5  Black    1             0         4356   \n",
            "3               6             5  White    1             0         3900   \n",
            "4               9             4  White    1             0         3900   \n",
            "...           ...           ...    ...  ...           ...          ...   \n",
            "46298          10             2  White    2             0            0   \n",
            "46299          12             6  White    1             0            0   \n",
            "46300           6             0  White    2             0            0   \n",
            "46301           0             5  White    1             0            0   \n",
            "46302           0             4  White    2             0            0   \n",
            "\n",
            "      hours.per.week native.country  income  Label  \n",
            "0                 40  United-States       0    0.0  \n",
            "1                 18  United-States       0    0.0  \n",
            "2                 40  United-States       0    0.0  \n",
            "3                 40  United-States       0    0.0  \n",
            "4                 40  United-States       0    0.0  \n",
            "...              ...            ...     ...    ...  \n",
            "46298             40  United-States       0    0.0  \n",
            "46299             38  United-States       0    0.0  \n",
            "46300             40  United-States       1    1.0  \n",
            "46301             40  United-States       0    0.0  \n",
            "46302             20  United-States       0    0.0  \n",
            "\n",
            "[46303 rows x 16 columns]\n"
          ]
        }
      ]
    },
    {
      "cell_type": "code",
      "source": [
        "X_train, X_test, y_train, y_test = train_test_split(X, y, test_size=0.25, random_state=1)\n",
        "\n"
      ],
      "metadata": {
        "id": "wRcokMZRYmkt"
      },
      "execution_count": null,
      "outputs": []
    },
    {
      "cell_type": "code",
      "source": [
        "print(X_train)\n",
        "print(y_train)"
      ],
      "metadata": {
        "colab": {
          "base_uri": "https://localhost:8080/"
        },
        "id": "Odt6eXiYmweq",
        "outputId": "36990ffd-2538-47e8-9d38-b6865f3cee3a"
      },
      "execution_count": null,
      "outputs": [
        {
          "output_type": "stream",
          "name": "stdout",
          "text": [
            "       workclass  education  marital.status  occupation  relationship  sex  \\\n",
            "19409          3          2               0           9             0    2   \n",
            "26169          3          4               3           2             5    2   \n",
            "37770          1          4               1           9             4    2   \n",
            "20728          3          4               1           5             4    2   \n",
            "33323          3          4               0           6             0    2   \n",
            "...          ...        ...             ...         ...           ...  ...   \n",
            "43723          6          8               1          15             4    2   \n",
            "32511          1          4               3           9             2    1   \n",
            "5192           3          2               0          11             6    1   \n",
            "12172          3          4               3           7             5    1   \n",
            "33003          3          9               0          11             3    2   \n",
            "\n",
            "      hours.per.week  \n",
            "19409             55  \n",
            "26169             40  \n",
            "37770             15  \n",
            "20728             40  \n",
            "33323             40  \n",
            "...              ...  \n",
            "43723             30  \n",
            "32511             40  \n",
            "5192              45  \n",
            "12172             30  \n",
            "33003             40  \n",
            "\n",
            "[34727 rows x 7 columns]\n",
            "19409    1.0\n",
            "26169    0.0\n",
            "37770    0.0\n",
            "20728    0.0\n",
            "33323    0.0\n",
            "        ... \n",
            "43723    0.0\n",
            "32511    0.0\n",
            "5192     1.0\n",
            "12172    0.0\n",
            "33003    0.0\n",
            "Name: Label, Length: 34727, dtype: float64\n"
          ]
        }
      ]
    },
    {
      "cell_type": "code",
      "source": [
        "logreg = LogisticRegression(random_state=16)\n",
        "logreg.fit(X_train, y_train)\n",
        "\n",
        "y_pred = logreg.predict(X_test)\n",
        "print(y_test)\n",
        "print(\"Predicted\")\n",
        "print(y_pred)"
      ],
      "metadata": {
        "colab": {
          "base_uri": "https://localhost:8080/",
          "height": 380
        },
        "id": "0BCR8_N1mpb6",
        "outputId": "5f7446ac-c3bb-4852-9e80-b13441079310"
      },
      "execution_count": null,
      "outputs": [
        {
          "output_type": "error",
          "ename": "ValueError",
          "evalue": "ignored",
          "traceback": [
            "\u001b[0;31m---------------------------------------------------------------------------\u001b[0m",
            "\u001b[0;31mValueError\u001b[0m                                Traceback (most recent call last)",
            "\u001b[0;32m<ipython-input-66-ffcc51aa9665>\u001b[0m in \u001b[0;36m<module>\u001b[0;34m\u001b[0m\n\u001b[1;32m      1\u001b[0m \u001b[0mlogreg\u001b[0m \u001b[0;34m=\u001b[0m \u001b[0mLogisticRegression\u001b[0m\u001b[0;34m(\u001b[0m\u001b[0mrandom_state\u001b[0m\u001b[0;34m=\u001b[0m\u001b[0;36m16\u001b[0m\u001b[0;34m)\u001b[0m\u001b[0;34m\u001b[0m\u001b[0;34m\u001b[0m\u001b[0m\n\u001b[0;32m----> 2\u001b[0;31m \u001b[0mlogreg\u001b[0m\u001b[0;34m.\u001b[0m\u001b[0mfit\u001b[0m\u001b[0;34m(\u001b[0m\u001b[0mX_train\u001b[0m\u001b[0;34m,\u001b[0m \u001b[0my_train\u001b[0m\u001b[0;34m)\u001b[0m\u001b[0;34m\u001b[0m\u001b[0;34m\u001b[0m\u001b[0m\n\u001b[0m\u001b[1;32m      3\u001b[0m \u001b[0;34m\u001b[0m\u001b[0m\n\u001b[1;32m      4\u001b[0m \u001b[0my_pred\u001b[0m \u001b[0;34m=\u001b[0m \u001b[0mlogreg\u001b[0m\u001b[0;34m.\u001b[0m\u001b[0mpredict\u001b[0m\u001b[0;34m(\u001b[0m\u001b[0mX_test\u001b[0m\u001b[0;34m)\u001b[0m\u001b[0;34m\u001b[0m\u001b[0;34m\u001b[0m\u001b[0m\n\u001b[1;32m      5\u001b[0m \u001b[0mprint\u001b[0m\u001b[0;34m(\u001b[0m\u001b[0my_test\u001b[0m\u001b[0;34m)\u001b[0m\u001b[0;34m\u001b[0m\u001b[0;34m\u001b[0m\u001b[0m\n",
            "\u001b[0;32m/usr/local/lib/python3.7/dist-packages/sklearn/linear_model/_logistic.py\u001b[0m in \u001b[0;36mfit\u001b[0;34m(self, X, y, sample_weight)\u001b[0m\n\u001b[1;32m   1512\u001b[0m             \u001b[0mdtype\u001b[0m\u001b[0;34m=\u001b[0m\u001b[0m_dtype\u001b[0m\u001b[0;34m,\u001b[0m\u001b[0;34m\u001b[0m\u001b[0;34m\u001b[0m\u001b[0m\n\u001b[1;32m   1513\u001b[0m             \u001b[0morder\u001b[0m\u001b[0;34m=\u001b[0m\u001b[0;34m\"C\"\u001b[0m\u001b[0;34m,\u001b[0m\u001b[0;34m\u001b[0m\u001b[0;34m\u001b[0m\u001b[0m\n\u001b[0;32m-> 1514\u001b[0;31m             \u001b[0maccept_large_sparse\u001b[0m\u001b[0;34m=\u001b[0m\u001b[0msolver\u001b[0m \u001b[0;32mnot\u001b[0m \u001b[0;32min\u001b[0m \u001b[0;34m[\u001b[0m\u001b[0;34m\"liblinear\"\u001b[0m\u001b[0;34m,\u001b[0m \u001b[0;34m\"sag\"\u001b[0m\u001b[0;34m,\u001b[0m \u001b[0;34m\"saga\"\u001b[0m\u001b[0;34m]\u001b[0m\u001b[0;34m,\u001b[0m\u001b[0;34m\u001b[0m\u001b[0;34m\u001b[0m\u001b[0m\n\u001b[0m\u001b[1;32m   1515\u001b[0m         )\n\u001b[1;32m   1516\u001b[0m         \u001b[0mcheck_classification_targets\u001b[0m\u001b[0;34m(\u001b[0m\u001b[0my\u001b[0m\u001b[0;34m)\u001b[0m\u001b[0;34m\u001b[0m\u001b[0;34m\u001b[0m\u001b[0m\n",
            "\u001b[0;32m/usr/local/lib/python3.7/dist-packages/sklearn/base.py\u001b[0m in \u001b[0;36m_validate_data\u001b[0;34m(self, X, y, reset, validate_separately, **check_params)\u001b[0m\n\u001b[1;32m    579\u001b[0m                 \u001b[0my\u001b[0m \u001b[0;34m=\u001b[0m \u001b[0mcheck_array\u001b[0m\u001b[0;34m(\u001b[0m\u001b[0my\u001b[0m\u001b[0;34m,\u001b[0m \u001b[0;34m**\u001b[0m\u001b[0mcheck_y_params\u001b[0m\u001b[0;34m)\u001b[0m\u001b[0;34m\u001b[0m\u001b[0;34m\u001b[0m\u001b[0m\n\u001b[1;32m    580\u001b[0m             \u001b[0;32melse\u001b[0m\u001b[0;34m:\u001b[0m\u001b[0;34m\u001b[0m\u001b[0;34m\u001b[0m\u001b[0m\n\u001b[0;32m--> 581\u001b[0;31m                 \u001b[0mX\u001b[0m\u001b[0;34m,\u001b[0m \u001b[0my\u001b[0m \u001b[0;34m=\u001b[0m \u001b[0mcheck_X_y\u001b[0m\u001b[0;34m(\u001b[0m\u001b[0mX\u001b[0m\u001b[0;34m,\u001b[0m \u001b[0my\u001b[0m\u001b[0;34m,\u001b[0m \u001b[0;34m**\u001b[0m\u001b[0mcheck_params\u001b[0m\u001b[0;34m)\u001b[0m\u001b[0;34m\u001b[0m\u001b[0;34m\u001b[0m\u001b[0m\n\u001b[0m\u001b[1;32m    582\u001b[0m             \u001b[0mout\u001b[0m \u001b[0;34m=\u001b[0m \u001b[0mX\u001b[0m\u001b[0;34m,\u001b[0m \u001b[0my\u001b[0m\u001b[0;34m\u001b[0m\u001b[0;34m\u001b[0m\u001b[0m\n\u001b[1;32m    583\u001b[0m \u001b[0;34m\u001b[0m\u001b[0m\n",
            "\u001b[0;32m/usr/local/lib/python3.7/dist-packages/sklearn/utils/validation.py\u001b[0m in \u001b[0;36mcheck_X_y\u001b[0;34m(X, y, accept_sparse, accept_large_sparse, dtype, order, copy, force_all_finite, ensure_2d, allow_nd, multi_output, ensure_min_samples, ensure_min_features, y_numeric, estimator)\u001b[0m\n\u001b[1;32m    974\u001b[0m         \u001b[0mensure_min_samples\u001b[0m\u001b[0;34m=\u001b[0m\u001b[0mensure_min_samples\u001b[0m\u001b[0;34m,\u001b[0m\u001b[0;34m\u001b[0m\u001b[0;34m\u001b[0m\u001b[0m\n\u001b[1;32m    975\u001b[0m         \u001b[0mensure_min_features\u001b[0m\u001b[0;34m=\u001b[0m\u001b[0mensure_min_features\u001b[0m\u001b[0;34m,\u001b[0m\u001b[0;34m\u001b[0m\u001b[0;34m\u001b[0m\u001b[0m\n\u001b[0;32m--> 976\u001b[0;31m         \u001b[0mestimator\u001b[0m\u001b[0;34m=\u001b[0m\u001b[0mestimator\u001b[0m\u001b[0;34m,\u001b[0m\u001b[0;34m\u001b[0m\u001b[0;34m\u001b[0m\u001b[0m\n\u001b[0m\u001b[1;32m    977\u001b[0m     )\n\u001b[1;32m    978\u001b[0m \u001b[0;34m\u001b[0m\u001b[0m\n",
            "\u001b[0;32m/usr/local/lib/python3.7/dist-packages/sklearn/utils/validation.py\u001b[0m in \u001b[0;36mcheck_array\u001b[0;34m(array, accept_sparse, accept_large_sparse, dtype, order, copy, force_all_finite, ensure_2d, allow_nd, ensure_min_samples, ensure_min_features, estimator)\u001b[0m\n\u001b[1;32m    744\u001b[0m                     \u001b[0marray\u001b[0m \u001b[0;34m=\u001b[0m \u001b[0marray\u001b[0m\u001b[0;34m.\u001b[0m\u001b[0mastype\u001b[0m\u001b[0;34m(\u001b[0m\u001b[0mdtype\u001b[0m\u001b[0;34m,\u001b[0m \u001b[0mcasting\u001b[0m\u001b[0;34m=\u001b[0m\u001b[0;34m\"unsafe\"\u001b[0m\u001b[0;34m,\u001b[0m \u001b[0mcopy\u001b[0m\u001b[0;34m=\u001b[0m\u001b[0;32mFalse\u001b[0m\u001b[0;34m)\u001b[0m\u001b[0;34m\u001b[0m\u001b[0;34m\u001b[0m\u001b[0m\n\u001b[1;32m    745\u001b[0m                 \u001b[0;32melse\u001b[0m\u001b[0;34m:\u001b[0m\u001b[0;34m\u001b[0m\u001b[0;34m\u001b[0m\u001b[0m\n\u001b[0;32m--> 746\u001b[0;31m                     \u001b[0marray\u001b[0m \u001b[0;34m=\u001b[0m \u001b[0mnp\u001b[0m\u001b[0;34m.\u001b[0m\u001b[0masarray\u001b[0m\u001b[0;34m(\u001b[0m\u001b[0marray\u001b[0m\u001b[0;34m,\u001b[0m \u001b[0morder\u001b[0m\u001b[0;34m=\u001b[0m\u001b[0morder\u001b[0m\u001b[0;34m,\u001b[0m \u001b[0mdtype\u001b[0m\u001b[0;34m=\u001b[0m\u001b[0mdtype\u001b[0m\u001b[0;34m)\u001b[0m\u001b[0;34m\u001b[0m\u001b[0;34m\u001b[0m\u001b[0m\n\u001b[0m\u001b[1;32m    747\u001b[0m             \u001b[0;32mexcept\u001b[0m \u001b[0mComplexWarning\u001b[0m \u001b[0;32mas\u001b[0m \u001b[0mcomplex_warning\u001b[0m\u001b[0;34m:\u001b[0m\u001b[0;34m\u001b[0m\u001b[0;34m\u001b[0m\u001b[0m\n\u001b[1;32m    748\u001b[0m                 raise ValueError(\n",
            "\u001b[0;32m/usr/local/lib/python3.7/dist-packages/pandas/core/generic.py\u001b[0m in \u001b[0;36m__array__\u001b[0;34m(self, dtype)\u001b[0m\n\u001b[1;32m   1991\u001b[0m \u001b[0;34m\u001b[0m\u001b[0m\n\u001b[1;32m   1992\u001b[0m     \u001b[0;32mdef\u001b[0m \u001b[0m__array__\u001b[0m\u001b[0;34m(\u001b[0m\u001b[0mself\u001b[0m\u001b[0;34m,\u001b[0m \u001b[0mdtype\u001b[0m\u001b[0;34m:\u001b[0m \u001b[0mNpDtype\u001b[0m \u001b[0;34m|\u001b[0m \u001b[0;32mNone\u001b[0m \u001b[0;34m=\u001b[0m \u001b[0;32mNone\u001b[0m\u001b[0;34m)\u001b[0m \u001b[0;34m->\u001b[0m \u001b[0mnp\u001b[0m\u001b[0;34m.\u001b[0m\u001b[0mndarray\u001b[0m\u001b[0;34m:\u001b[0m\u001b[0;34m\u001b[0m\u001b[0;34m\u001b[0m\u001b[0m\n\u001b[0;32m-> 1993\u001b[0;31m         \u001b[0;32mreturn\u001b[0m \u001b[0mnp\u001b[0m\u001b[0;34m.\u001b[0m\u001b[0masarray\u001b[0m\u001b[0;34m(\u001b[0m\u001b[0mself\u001b[0m\u001b[0;34m.\u001b[0m\u001b[0m_values\u001b[0m\u001b[0;34m,\u001b[0m \u001b[0mdtype\u001b[0m\u001b[0;34m=\u001b[0m\u001b[0mdtype\u001b[0m\u001b[0;34m)\u001b[0m\u001b[0;34m\u001b[0m\u001b[0;34m\u001b[0m\u001b[0m\n\u001b[0m\u001b[1;32m   1994\u001b[0m \u001b[0;34m\u001b[0m\u001b[0m\n\u001b[1;32m   1995\u001b[0m     def __array_wrap__(\n",
            "\u001b[0;31mValueError\u001b[0m: could not convert string to float: '<=50K'"
          ]
        }
      ]
    },
    {
      "cell_type": "code",
      "source": [
        "cnf_matrix = metrics.confusion_matrix(y_test, y_pred)\n",
        "cnf_matrix\n",
        "\n",
        "from sklearn.metrics import classification_report\n",
        "target_names = ['SALARY <=50K', 'SALARY >50K']\n",
        "print(classification_report(y_test, y_pred, target_names=target_names))\n"
      ],
      "metadata": {
        "colab": {
          "base_uri": "https://localhost:8080/",
          "height": 235
        },
        "id": "hvHbkhDkYmnA",
        "outputId": "92299b94-bf3d-423a-8fd7-56c1e57062b3"
      },
      "execution_count": null,
      "outputs": [
        {
          "output_type": "error",
          "ename": "NameError",
          "evalue": "ignored",
          "traceback": [
            "\u001b[0;31m---------------------------------------------------------------------------\u001b[0m",
            "\u001b[0;31mNameError\u001b[0m                                 Traceback (most recent call last)",
            "\u001b[0;32m<ipython-input-19-5e84b0a4381d>\u001b[0m in \u001b[0;36m<module>\u001b[0;34m\u001b[0m\n\u001b[0;32m----> 1\u001b[0;31m \u001b[0mcnf_matrix\u001b[0m \u001b[0;34m=\u001b[0m \u001b[0mmetrics\u001b[0m\u001b[0;34m.\u001b[0m\u001b[0mconfusion_matrix\u001b[0m\u001b[0;34m(\u001b[0m\u001b[0my_test\u001b[0m\u001b[0;34m,\u001b[0m \u001b[0my_pred\u001b[0m\u001b[0;34m)\u001b[0m\u001b[0;34m\u001b[0m\u001b[0;34m\u001b[0m\u001b[0m\n\u001b[0m\u001b[1;32m      2\u001b[0m \u001b[0mcnf_matrix\u001b[0m\u001b[0;34m\u001b[0m\u001b[0;34m\u001b[0m\u001b[0m\n\u001b[1;32m      3\u001b[0m \u001b[0;34m\u001b[0m\u001b[0m\n\u001b[1;32m      4\u001b[0m \u001b[0;32mfrom\u001b[0m \u001b[0msklearn\u001b[0m\u001b[0;34m.\u001b[0m\u001b[0mmetrics\u001b[0m \u001b[0;32mimport\u001b[0m \u001b[0mclassification_report\u001b[0m\u001b[0;34m\u001b[0m\u001b[0;34m\u001b[0m\u001b[0m\n\u001b[1;32m      5\u001b[0m \u001b[0mtarget_names\u001b[0m \u001b[0;34m=\u001b[0m \u001b[0;34m[\u001b[0m\u001b[0;34m'SALARY <=50K'\u001b[0m\u001b[0;34m,\u001b[0m \u001b[0;34m'SALARY >50K'\u001b[0m\u001b[0;34m]\u001b[0m\u001b[0;34m\u001b[0m\u001b[0;34m\u001b[0m\u001b[0m\n",
            "\u001b[0;31mNameError\u001b[0m: name 'y_pred' is not defined"
          ]
        }
      ]
    },
    {
      "cell_type": "code",
      "source": [
        "y_pred_proba = logreg.predict_proba(X_test)[::,1]                                                                                                                                                                                                                                                                                                                                                                                                                                        m                                                                                                                                                                                                                                                                                                                                                                                                                                                                                                                                                                                                                                                                                                                                                                                                                                                                                                                                                                                                                                                                                                                                                                                                                                                                                                                                                                                                                                                                                                                                                                                                                                                                                                                                                                                                                                                                                                                                                                                                                                                                                                                                                                                                                                                                                                                                                                                           y_pred_proba = logreg.predict_proba(X_test)[::,1]\n",
        "fpr, tpr, _ = metrics.roc_curve(y_test,  y_pred_proba)\n",
        "auc = metrics.roc_auc_score(y_test, y_pred_proba)\n",
        "plt.plot(fpr,tpr,label=\"data 1, auc=\"+str(auc))\n",
        "plt.legend(loc=4)\n",
        "plt.show()\n"
      ],
      "metadata": {
        "colab": {
          "base_uri": "https://localhost:8080/",
          "height": 265
        },
        "id": "veOG3RA0Ymp3",
        "outputId": "b1bf8aa2-ae72-4976-f669-32c3234b6d65"
      },
      "execution_count": null,
      "outputs": [
        {
          "output_type": "display_data",
          "data": {
            "text/plain": [
              "<Figure size 432x288 with 1 Axes>"
            ],
            "image/png": "[encoded data removed]"
          },
          "metadata": {
            "needs_background": "light"
          }
        }
      ]
    },
    {
      "cell_type": "code",
      "source": [
        "from sklearn.metrics import accuracy_score"
      ],
      "metadata": {
        "id": "tARiwa7Ffwx4"
      },
      "execution_count": null,
      "outputs": []
    },
    {
      "cell_type": "code",
      "source": [
        "predictions= logreg.predict(X_test)\n",
        "ac = accuracy_score(y_test,predictions)\n",
        "print(ac)"
      ],
      "metadata": {
        "colab": {
          "base_uri": "https://localhost:8080/"
        },
        "id": "P85gl_3AYmtC",
        "outputId": "cf15b971-547a-4fa3-cb61-add5d13bb37a"
      },
      "execution_count": null,
      "outputs": [
        {
          "output_type": "stream",
          "name": "stdout",
          "text": [
            "0.7765630757892151\n"
          ]
        }
      ]
    },
    {
      "cell_type": "code",
      "source": [],
      "metadata": {
        "id": "FMWljTmuYmwr"
      },
      "execution_count": null,
      "outputs": []
    }
  ]
}