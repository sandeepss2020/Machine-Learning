{
  "nbformat": 4,
  "nbformat_minor": 0,
  "metadata": {
    "colab": {
      "provenance": [],
      "collapsed_sections": [],
      "authorship_tag": "ABX9TyNBYAa9OVoBPdrAkXKnkqF5",
      "include_colab_link": true
    },
    "kernelspec": {
      "name": "python3",
      "display_name": "Python 3"
    },
    "language_info": {
      "name": "python"
    }
  },
  "cells": [
    {
      "cell_type": "markdown",
      "metadata": {
        "id": "view-in-github",
        "colab_type": "text"
      },
      "source": [
        "<a href=\"https://colab.research.google.com/github/sandeepss2020/Machine-Learning/blob/main/ML_lab_6_ML_Decisiontree.ipynb\" target=\"_parent\"><img src=\"https://colab.research.google.com/assets/colab-badge.svg\" alt=\"Open In Colab\"/></a>"
      ]
    },
    {
      "cell_type": "code",
      "execution_count": null,
      "metadata": {
        "id": "BnqpUjhPimm-"
      },
      "outputs": [],
      "source": [
        "import pandas as pd\n",
        "import numpy as np\n",
        "import matplotlib.pyplot as plt\n",
        "import seaborn as sns\n",
        "from sklearn.model_selection import train_test_split\n",
        "\n",
        "from sklearn.preprocessing import LabelEncoder"
      ]
    },
    {
      "cell_type": "code",
      "source": [
        "dataset= pd.read_csv('jobclassinfo2.csv')\n",
        "\n",
        "Le = LabelEncoder()\n",
        "\n",
        "\n",
        "dataset['JobFamilyDescription'] = Le.fit_transform(dataset['JobFamilyDescription'])\n",
        "dataset['JobClassDescription'] = Le.fit_transform(dataset['JobClassDescription'])\n",
        "\n",
        "\n",
        "\n",
        "# print(dataset)\n",
        "\n",
        "y = dataset['PayGrade']\n",
        "X = dataset.drop(['JobClass','PayGrade','PG' ,'ID','JobFamily'],axis=1)\n",
        "X_train, X_test, y_train, y_test= train_test_split(X,y,test_size= 0.4)\n",
        "\n",
        "print(\"X and Y Value\")\n",
        "print(X, y)\n",
        "\n",
        "from sklearn import tree\n",
        "\n",
        "from sklearn.tree import DecisionTreeClassifier\n",
        "dtree= DecisionTreeClassifier(criterion = 'entropy')\n",
        "dtree.fit(X_train,y_train)\n",
        "predictions= dtree.predict(X_test)\n",
        "from sklearn.metrics import classification_report, confusion_matrix\n",
        "\n",
        "print(confusion_matrix(y_test,predictions))\n",
        "print('\\n')\n",
        "print(classification_report(y_test,predictions))\n",
        "tree.plot_tree(dtree)\n",
        "plt.rcParams['figure.figsize'] = [16,16]"
      ],
      "metadata": {
        "colab": {
          "base_uri": "https://localhost:8080/",
          "height": 1000
        },
        "id": "B0QyRQdMiuVB",
        "outputId": "a806343f-ee65-450e-95b6-efd56023ff75"
      },
      "execution_count": null,
      "outputs": [
        {
          "output_type": "stream",
          "name": "stdout",
          "text": [
            "X and Y Value\n",
            "    JobFamilyDescription  JobClassDescription  EducationLevel  Experience  \\\n",
            "0                      0                    0               3           1   \n",
            "1                      0                    1               4           1   \n",
            "2                      0                    2               4           2   \n",
            "3                      0                    3               5           5   \n",
            "4                      1                    4               1           0   \n",
            "..                   ...                  ...             ...         ...   \n",
            "61                    14                   61               1           1   \n",
            "62                    14                   62               4           1   \n",
            "63                    14                   63               5           2   \n",
            "64                    14                   64               5           5   \n",
            "65                    14                   65               5           5   \n",
            "\n",
            "    OrgImpact  ProblemSolving  Supervision  ContactLevel  FinancialBudget  \n",
            "0           3               3            4             3                5  \n",
            "1           5               4            5             7                7  \n",
            "2           6               5            6             7               10  \n",
            "3           6               6            7             8               11  \n",
            "4           1               1            1             1                1  \n",
            "..        ...             ...          ...           ...              ...  \n",
            "61          1               2            1             1                1  \n",
            "62          3               3            4             3                4  \n",
            "63          4               4            5             7                5  \n",
            "64          6               5            6             7                7  \n",
            "65          6               6            7             8               11  \n",
            "\n",
            "[66 rows x 9 columns] 0      5\n",
            "1      6\n",
            "2      8\n",
            "3     10\n",
            "4      1\n",
            "      ..\n",
            "61     3\n",
            "62     5\n",
            "63     6\n",
            "64     8\n",
            "65    10\n",
            "Name: PayGrade, Length: 66, dtype: int64\n",
            "[[0 0 4 0 0 0 0 0 0]\n",
            " [0 0 2 0 0 0 0 0 0]\n",
            " [0 0 1 1 0 0 0 0 0]\n",
            " [0 0 2 1 1 0 0 0 0]\n",
            " [0 0 0 2 3 0 0 0 0]\n",
            " [0 0 0 1 2 0 0 0 0]\n",
            " [0 0 0 0 0 0 1 0 0]\n",
            " [0 0 0 0 0 0 1 1 0]\n",
            " [0 0 0 0 0 0 0 0 4]]\n",
            "\n",
            "\n",
            "              precision    recall  f1-score   support\n",
            "\n",
            "           2       0.00      0.00      0.00         4\n",
            "           3       0.00      0.00      0.00         2\n",
            "           4       0.11      0.50      0.18         2\n",
            "           5       0.20      0.25      0.22         4\n",
            "           6       0.50      0.60      0.55         5\n",
            "           7       0.00      0.00      0.00         3\n",
            "           8       0.50      1.00      0.67         1\n",
            "           9       1.00      0.50      0.67         2\n",
            "          10       1.00      1.00      1.00         4\n",
            "\n",
            "    accuracy                           0.41        27\n",
            "   macro avg       0.37      0.43      0.36        27\n",
            "weighted avg       0.37      0.41      0.37        27\n",
            "\n"
          ]
        },
        {
          "output_type": "stream",
          "name": "stderr",
          "text": [
            "/usr/local/lib/python3.7/dist-packages/sklearn/metrics/_classification.py:1318: UndefinedMetricWarning: Precision and F-score are ill-defined and being set to 0.0 in labels with no predicted samples. Use `zero_division` parameter to control this behavior.\n",
            "  _warn_prf(average, modifier, msg_start, len(result))\n",
            "/usr/local/lib/python3.7/dist-packages/sklearn/metrics/_classification.py:1318: UndefinedMetricWarning: Precision and F-score are ill-defined and being set to 0.0 in labels with no predicted samples. Use `zero_division` parameter to control this behavior.\n",
            "  _warn_prf(average, modifier, msg_start, len(result))\n",
            "/usr/local/lib/python3.7/dist-packages/sklearn/metrics/_classification.py:1318: UndefinedMetricWarning: Precision and F-score are ill-defined and being set to 0.0 in labels with no predicted samples. Use `zero_division` parameter to control this behavior.\n",
            "  _warn_prf(average, modifier, msg_start, len(result))\n"
          ]
        },
        {
          "output_type": "display_data",
          "data": {
            "text/plain": [
              "<Figure size 1152x1152 with 1 Axes>"
            ],
            "image/png": "[encoded data removed]"
          },
          "metadata": {
            "needs_background": "light"
          }
        }
      ]
    },
    {
      "cell_type": "code",
      "source": [
        "from sklearn.metrics import confusion_matrix, classification_report, accuracy_score"
      ],
      "metadata": {
        "id": "SLNpV0Uaiube"
      },
      "execution_count": null,
      "outputs": []
    },
    {
      "cell_type": "code",
      "source": [
        "ac = accuracy_score(y_test,predictions)\n",
        "print(ac)"
      ],
      "metadata": {
        "id": "8dGUPdBHiuel",
        "colab": {
          "base_uri": "https://localhost:8080/"
        },
        "outputId": "df455ab1-810a-426b-ea83-41bca7a5eb34"
      },
      "execution_count": null,
      "outputs": [
        {
          "output_type": "stream",
          "name": "stdout",
          "text": [
            "0.4074074074074074\n"
          ]
        }
      ]
    },
    {
      "cell_type": "code",
      "source": [],
      "metadata": {
        "id": "d5AeUK_Hiuhg"
      },
      "execution_count": null,
      "outputs": []
    },
    {
      "cell_type": "code",
      "source": [],
      "metadata": {
        "id": "DdzaZhgQiukP"
      },
      "execution_count": null,
      "outputs": []
    },
    {
      "cell_type": "markdown",
      "source": [
        "NEW APPROACH\n"
      ],
      "metadata": {
        "id": "B8EjoNIsyf-6"
      }
    },
    {
      "cell_type": "code",
      "source": [
        "import numpy as np\n",
        "import pandas as pd\n",
        "from sklearn.metrics import confusion_matrix\n",
        "from sklearn.model_selection import train_test_split\n",
        "from sklearn.tree import DecisionTreeClassifier\n",
        "from sklearn.metrics import accuracy_score\n",
        "from sklearn.metrics import classification_report\n",
        "from sklearn.preprocessing import LabelEncoder"
      ],
      "metadata": {
        "id": "Mk20Ox2ciunC"
      },
      "execution_count": null,
      "outputs": []
    },
    {
      "cell_type": "code",
      "source": [
        "def importdata():\n",
        "    balance_data = pd.read_csv('jobclassinfo2.csv')\n",
        "    print (\"Dataset Length: \", len(balance_data))\n",
        "    print (\"Dataset Shape: \", balance_data.shape)\n",
        "    print (\"Dataset: \",balance_data.head())\n",
        "    return balance_data"
      ],
      "metadata": {
        "id": "9GEFxYgIiupd"
      },
      "execution_count": null,
      "outputs": []
    },
    {
      "cell_type": "code",
      "source": [
        "def splitdataset(balance_data):\n",
        "    Le = LabelEncoder()\n",
        "    balance_data['JobFamilyDescription'] = Le.fit_transform(balance_data['JobFamilyDescription'])\n",
        "    balance_data['JobClassDescription'] = Le.fit_transform(balance_data['JobClassDescription'])\n",
        "    # Separating the target variable\n",
        "    X = balance_data.drop(['JobClass','PayGrade','PG' ,'ID','JobFamily'],axis=1)\n",
        "    Y = balance_data['PayGrade']\n",
        "  \n",
        "    # Splitting the dataset into train and test\n",
        "    X_train, X_test, y_train, y_test = train_test_split(X, Y, test_size = 0.3, random_state = 100)\n",
        "      \n",
        "    return X, Y, X_train, X_test, y_train, y_test"
      ],
      "metadata": {
        "id": "zDb79R0NzjzH"
      },
      "execution_count": null,
      "outputs": []
    },
    {
      "cell_type": "code",
      "source": [
        "# Function to perform training with giniIndex.\n",
        "def train_using_gini(X_train, X_test, y_train):\n",
        "  \n",
        "    # Creating the classifier object\n",
        "    clf_gini = DecisionTreeClassifier(criterion = \"gini\",\n",
        "            random_state = 100,max_depth=3, min_samples_leaf=5)\n",
        "  \n",
        "    # Performing training\n",
        "    clf_gini.fit(X_train, y_train)\n",
        "    return clf_gini"
      ],
      "metadata": {
        "id": "iVmC5EnWz__Z"
      },
      "execution_count": null,
      "outputs": []
    },
    {
      "cell_type": "code",
      "source": [
        "# Function to perform training with entropy.\n",
        "def tarin_using_entropy(X_train, X_test, y_train):\n",
        "  \n",
        "    # Decision tree with entropy\n",
        "    clf_entropy = DecisionTreeClassifier(\n",
        "            criterion = \"entropy\", random_state = 100,\n",
        "            max_depth = 3, min_samples_leaf = 5)\n",
        "  \n",
        "    # Performing training\n",
        "    clf_entropy.fit(X_train, y_train)\n",
        "    return clf_entropy"
      ],
      "metadata": {
        "id": "fI4EM6Na0ACa"
      },
      "execution_count": null,
      "outputs": []
    },
    {
      "cell_type": "code",
      "source": [
        "# Function to make predictions\n",
        "def prediction(X_test, clf_object):\n",
        "  \n",
        "    # Predicton on test with giniIndex\n",
        "    y_pred = clf_object.predict(X_test)\n",
        "    print(\"Predicted values:\")\n",
        "    print(y_pred)\n",
        "    return y_pred"
      ],
      "metadata": {
        "id": "0Uk0wwDl0w4-"
      },
      "execution_count": null,
      "outputs": []
    },
    {
      "cell_type": "code",
      "source": [
        "# Function to calculate accuracy\n",
        "def cal_accuracy(y_test, y_pred):\n",
        "      \n",
        "    print(\"Confusion Matrix: \\n\",\n",
        "        confusion_matrix(y_test, y_pred))\n",
        "      \n",
        "    print (\"Accuracy : \\n\",\n",
        "    accuracy_score(y_test,y_pred)*100)\n",
        "      \n",
        "    print(\"Report : \\n\",\n",
        "    classification_report(y_test, y_pred))"
      ],
      "metadata": {
        "id": "vF59wiKx0hXG"
      },
      "execution_count": null,
      "outputs": []
    },
    {
      "cell_type": "code",
      "source": [],
      "metadata": {
        "id": "sLe96abF0haF"
      },
      "execution_count": null,
      "outputs": []
    },
    {
      "cell_type": "code",
      "source": [],
      "metadata": {
        "id": "vMAzXcGz0hdd"
      },
      "execution_count": null,
      "outputs": []
    },
    {
      "cell_type": "code",
      "source": [
        "\n",
        "      "
      ],
      "metadata": {
        "id": "1sxWcr6P0d15"
      },
      "execution_count": null,
      "outputs": []
    },
    {
      "cell_type": "code",
      "source": [],
      "metadata": {
        "id": "5PL2S2bt0d5Q"
      },
      "execution_count": null,
      "outputs": []
    },
    {
      "cell_type": "code",
      "source": [
        "def main():\n",
        "      \n",
        "    # Building Phase\n",
        "    data = importdata()\n",
        "    X, Y, X_train, X_test, y_train, y_test = splitdataset(data)\n",
        "    clf_gini = train_using_gini(X_train, X_test, y_train)\n",
        "    clf_entropy = tarin_using_entropy(X_train, X_test, y_train)\n",
        "      \n",
        "    # Operational Phase\n",
        "    print(\"Results Using Gini Index:\")\n",
        "      \n",
        "    # Prediction using gini\n",
        "    y_pred_gini = prediction(X_test, clf_gini)\n",
        "    cal_accuracy(y_test, y_pred_gini)\n",
        "      \n",
        "    print(\"Results Using Entropy:\")\n",
        "    # Prediction using entropy\n",
        "    y_pred_entropy = prediction(X_test, clf_entropy)\n",
        "    cal_accuracy(y_test, y_pred_entropy)\n",
        "      "
      ],
      "metadata": {
        "id": "U7duBmM9zNs-"
      },
      "execution_count": null,
      "outputs": []
    },
    {
      "cell_type": "code",
      "source": [
        "# Calling main function\n",
        "if __name__==\"__main__\":\n",
        "    main()"
      ],
      "metadata": {
        "colab": {
          "base_uri": "https://localhost:8080/"
        },
        "id": "VM2-ptINzDMx",
        "outputId": "3ef1320d-c0ff-44e1-9d8e-593f5e07e986"
      },
      "execution_count": null,
      "outputs": [
        {
          "output_type": "stream",
          "name": "stdout",
          "text": [
            "Dataset Length:  66\n",
            "Dataset Shape:  (66, 14)\n",
            "Dataset:     ID  JobClass  JobFamily    JobFamilyDescription JobClassDescription  \\\n",
            "0   1         1          1  Accounting And Finance        Accountant I   \n",
            "1   2         2          1  Accounting And Finance       Accountant II   \n",
            "2   3         3          1  Accounting And Finance      Accountant III   \n",
            "3   4         4          1  Accounting And Finance       Accountant IV   \n",
            "4   5         5          2  Administrative Support     Admin Support I   \n",
            "\n",
            "   EducationLevel  Experience  OrgImpact  ProblemSolving  Supervision  \\\n",
            "0               3           1          3               3            4   \n",
            "1               4           1          5               4            5   \n",
            "2               4           2          6               5            6   \n",
            "3               5           5          6               6            7   \n",
            "4               1           0          1               1            1   \n",
            "\n",
            "   ContactLevel  FinancialBudget    PG  PayGrade  \n",
            "0             3                5  PG05         5  \n",
            "1             7                7  PG06         6  \n",
            "2             7               10  PG08         8  \n",
            "3             8               11  PG10        10  \n",
            "4             1                1  PG01         1  \n",
            "Results Using Gini Index:\n",
            "Predicted values:\n",
            "[ 5  6  2  5  5  6  2  3  8 10  5  3  3 10  8  5  8  5  5  6]\n",
            "Confusion Matrix: \n",
            " [[1 1 0 0 0 0 0 0 0]\n",
            " [0 1 0 0 0 0 0 0 0]\n",
            " [0 1 0 2 0 0 0 0 0]\n",
            " [1 0 0 5 0 0 0 0 0]\n",
            " [0 0 0 0 2 0 0 0 0]\n",
            " [0 0 0 0 1 0 0 0 0]\n",
            " [0 0 0 0 0 0 2 0 0]\n",
            " [0 0 0 0 0 0 1 0 0]\n",
            " [0 0 0 0 0 0 0 0 2]]\n",
            "Accuracy : \n",
            " 65.0\n",
            "Report : \n",
            "               precision    recall  f1-score   support\n",
            "\n",
            "           2       0.50      0.50      0.50         2\n",
            "           3       0.33      1.00      0.50         1\n",
            "           4       0.00      0.00      0.00         3\n",
            "           5       0.71      0.83      0.77         6\n",
            "           6       0.67      1.00      0.80         2\n",
            "           7       0.00      0.00      0.00         1\n",
            "           8       0.67      1.00      0.80         2\n",
            "           9       0.00      0.00      0.00         1\n",
            "          10       1.00      1.00      1.00         2\n",
            "\n",
            "    accuracy                           0.65        20\n",
            "   macro avg       0.43      0.59      0.49        20\n",
            "weighted avg       0.51      0.65      0.57        20\n",
            "\n",
            "Results Using Entropy:\n",
            "Predicted values:\n",
            "[ 5  6  2  5  5  6  2  3  8 10  5  3  3 10  8  5  8  5  5  6]\n",
            "Confusion Matrix: \n",
            " [[1 1 0 0 0 0 0 0 0]\n",
            " [0 1 0 0 0 0 0 0 0]\n",
            " [0 1 0 2 0 0 0 0 0]\n",
            " [1 0 0 5 0 0 0 0 0]\n",
            " [0 0 0 0 2 0 0 0 0]\n",
            " [0 0 0 0 1 0 0 0 0]\n",
            " [0 0 0 0 0 0 2 0 0]\n",
            " [0 0 0 0 0 0 1 0 0]\n",
            " [0 0 0 0 0 0 0 0 2]]\n",
            "Accuracy : \n",
            " 65.0\n",
            "Report : \n",
            "               precision    recall  f1-score   support\n",
            "\n",
            "           2       0.50      0.50      0.50         2\n",
            "           3       0.33      1.00      0.50         1\n",
            "           4       0.00      0.00      0.00         3\n",
            "           5       0.71      0.83      0.77         6\n",
            "           6       0.67      1.00      0.80         2\n",
            "           7       0.00      0.00      0.00         1\n",
            "           8       0.67      1.00      0.80         2\n",
            "           9       0.00      0.00      0.00         1\n",
            "          10       1.00      1.00      1.00         2\n",
            "\n",
            "    accuracy                           0.65        20\n",
            "   macro avg       0.43      0.59      0.49        20\n",
            "weighted avg       0.51      0.65      0.57        20\n",
            "\n"
          ]
        },
        {
          "output_type": "stream",
          "name": "stderr",
          "text": [
            "/usr/local/lib/python3.7/dist-packages/sklearn/metrics/_classification.py:1318: UndefinedMetricWarning: Precision and F-score are ill-defined and being set to 0.0 in labels with no predicted samples. Use `zero_division` parameter to control this behavior.\n",
            "  _warn_prf(average, modifier, msg_start, len(result))\n",
            "/usr/local/lib/python3.7/dist-packages/sklearn/metrics/_classification.py:1318: UndefinedMetricWarning: Precision and F-score are ill-defined and being set to 0.0 in labels with no predicted samples. Use `zero_division` parameter to control this behavior.\n",
            "  _warn_prf(average, modifier, msg_start, len(result))\n",
            "/usr/local/lib/python3.7/dist-packages/sklearn/metrics/_classification.py:1318: UndefinedMetricWarning: Precision and F-score are ill-defined and being set to 0.0 in labels with no predicted samples. Use `zero_division` parameter to control this behavior.\n",
            "  _warn_prf(average, modifier, msg_start, len(result))\n",
            "/usr/local/lib/python3.7/dist-packages/sklearn/metrics/_classification.py:1318: UndefinedMetricWarning: Precision and F-score are ill-defined and being set to 0.0 in labels with no predicted samples. Use `zero_division` parameter to control this behavior.\n",
            "  _warn_prf(average, modifier, msg_start, len(result))\n",
            "/usr/local/lib/python3.7/dist-packages/sklearn/metrics/_classification.py:1318: UndefinedMetricWarning: Precision and F-score are ill-defined and being set to 0.0 in labels with no predicted samples. Use `zero_division` parameter to control this behavior.\n",
            "  _warn_prf(average, modifier, msg_start, len(result))\n",
            "/usr/local/lib/python3.7/dist-packages/sklearn/metrics/_classification.py:1318: UndefinedMetricWarning: Precision and F-score are ill-defined and being set to 0.0 in labels with no predicted samples. Use `zero_division` parameter to control this behavior.\n",
            "  _warn_prf(average, modifier, msg_start, len(result))\n"
          ]
        }
      ]
    },
    {
      "cell_type": "code",
      "source": [],
      "metadata": {
        "id": "oypMFVd_zDV3"
      },
      "execution_count": null,
      "outputs": []
    },
    {
      "cell_type": "code",
      "source": [],
      "metadata": {
        "id": "qKr7DIAKzDYg"
      },
      "execution_count": null,
      "outputs": []
    },
    {
      "cell_type": "code",
      "source": [],
      "metadata": {
        "id": "V-rCjadczDeb"
      },
      "execution_count": null,
      "outputs": []
    }
  ]
}