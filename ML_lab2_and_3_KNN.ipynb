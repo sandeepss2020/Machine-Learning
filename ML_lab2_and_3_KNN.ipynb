{
  "nbformat": 4,
  "nbformat_minor": 0,
  "metadata": {
    "colab": {
      "provenance": [],
      "collapsed_sections": [],
      "authorship_tag": "ABX9TyN0EY+I1x52xV9S/YG+6kmF",
      "include_colab_link": true
    },
    "kernelspec": {
      "name": "python3",
      "display_name": "Python 3"
    },
    "language_info": {
      "name": "python"
    }
  },
  "cells": [
    {
      "cell_type": "markdown",
      "metadata": {
        "id": "view-in-github",
        "colab_type": "text"
      },
      "source": [
        "<a href=\"https://colab.research.google.com/github/sandeepss2020/Machine-Learning/blob/main/ML_lab2_and_3_KNN.ipynb\" target=\"_parent\"><img src=\"https://colab.research.google.com/assets/colab-badge.svg\" alt=\"Open In Colab\"/></a>"
      ]
    },
    {
      "cell_type": "code",
      "source": [
        "\n",
        "import matplotlib.pyplot as plt\n",
        "from sklearn.linear_model import LinearRegression\n",
        "from sklearn.metrics import mean_squared_error\n",
        "from sklearn.preprocessing import LabelEncoder, MinMaxScaler\n",
        "from sklearn.neighbors import KNeighborsClassifier\n",
        "from sklearn.model_selection import train_test_split\n",
        "from sklearn.metrics import confusion_matrix, classification_report, accuracy_score"
      ],
      "metadata": {
        "id": "13_rxzt5uUk5"
      },
      "execution_count": null,
      "outputs": []
    },
    {
      "cell_type": "code",
      "source": [
        "import pandas as pd\n",
        "df = pd.read_csv('Salary.csv')\n",
        "df.isnull()\n",
        "df = df.dropna()\n",
        "# df.isnull()\n",
        "# df.replace(np.nan, 0)"
      ],
      "metadata": {
        "id": "2o3dADiYuUhQ"
      },
      "execution_count": null,
      "outputs": []
    },
    {
      "cell_type": "code",
      "source": [
        "# 4. Normalizing the data using standard scaler or minmax scaler\n",
        "scaler = MinMaxScaler()\n",
        "scaler.fit_transform(df[[\"Median_weekly_earnings_in_current_dollars_Total\"]])"
      ],
      "metadata": {
        "colab": {
          "base_uri": "https://localhost:8080/"
        },
        "id": "tC-d9o8RuUd3",
        "outputId": "965daaa2-fbf5-4b18-eeb3-d2a41727403a"
      },
      "execution_count": null,
      "outputs": [
        {
          "output_type": "execute_result",
          "data": {
            "text/plain": [
              "array([[0.03225806],\n",
              "       [0.03870968],\n",
              "       [0.        ],\n",
              "       [0.02580645],\n",
              "       [0.0516129 ],\n",
              "       [0.0516129 ],\n",
              "       [0.07741935],\n",
              "       [0.11612903],\n",
              "       [0.11612903],\n",
              "       [0.14193548],\n",
              "       [0.19354839],\n",
              "       [0.15483871],\n",
              "       [0.18709677],\n",
              "       [0.16774194],\n",
              "       [0.22580645],\n",
              "       [0.23870968],\n",
              "       [0.25806452],\n",
              "       [0.30967742],\n",
              "       [0.2516129 ],\n",
              "       [0.36129032],\n",
              "       [0.34193548],\n",
              "       [0.38064516],\n",
              "       [0.39354839],\n",
              "       [0.43870968],\n",
              "       [0.51612903],\n",
              "       [0.52258065],\n",
              "       [0.5483871 ],\n",
              "       [0.58709677],\n",
              "       [0.67096774],\n",
              "       [0.74193548],\n",
              "       [0.77419355],\n",
              "       [0.79354839],\n",
              "       [0.72258065],\n",
              "       [0.8516129 ],\n",
              "       [0.89032258],\n",
              "       [0.97419355],\n",
              "       [1.        ]])"
            ]
          },
          "metadata": {},
          "execution_count": 6
        }
      ]
    },
    {
      "cell_type": "code",
      "source": [
        "features = df[['Median_weekly_earnings_in_constant_dollars_men', 'Median_weekly_earnings_in_constant_dollars_Women']]\n",
        "label = df[['label']]\n",
        "print(features, label)"
      ],
      "metadata": {
        "colab": {
          "base_uri": "https://localhost:8080/"
        },
        "id": "hqXVneJBuUZH",
        "outputId": "b067a31d-1e57-4f58-bde9-98fb50feb6e7"
      },
      "execution_count": null,
      "outputs": [
        {
          "output_type": "stream",
          "name": "stdout",
          "text": [
            "    Median_weekly_earnings_in_constant_dollars_men  \\\n",
            "0                                              379   \n",
            "1                                              384   \n",
            "2                                              374   \n",
            "3                                              377   \n",
            "4                                              376   \n",
            "5                                              370   \n",
            "6                                              370   \n",
            "7                                              370   \n",
            "8                                              369   \n",
            "9                                              368   \n",
            "10                                             380   \n",
            "11                                             364   \n",
            "12                                             375   \n",
            "13                                             370   \n",
            "14                                             372   \n",
            "15                                             367   \n",
            "16                                             369   \n",
            "17                                             367   \n",
            "18                                             363   \n",
            "19                                             370   \n",
            "20                                             371   \n",
            "21                                             377   \n",
            "22                                             376   \n",
            "23                                             377   \n",
            "24                                             380   \n",
            "25                                             380   \n",
            "26                                             382   \n",
            "27                                             381   \n",
            "28                                             382   \n",
            "29                                             385   \n",
            "30                                             385   \n",
            "31                                             385   \n",
            "32                                             381   \n",
            "33                                             383   \n",
            "34                                             385   \n",
            "35                                             389   \n",
            "36                                             392   \n",
            "\n",
            "    Median_weekly_earnings_in_constant_dollars_Women  \n",
            "0                                                307  \n",
            "1                                                304  \n",
            "2                                                309  \n",
            "3                                                308  \n",
            "4                                                308  \n",
            "5                                                306  \n",
            "6                                                306  \n",
            "7                                                301  \n",
            "8                                                302  \n",
            "9                                                303  \n",
            "10                                               300  \n",
            "11                                               302  \n",
            "12                                               298  \n",
            "13                                               301  \n",
            "14                                               304  \n",
            "15                                               302  \n",
            "16                                               304  \n",
            "17                                               304  \n",
            "18                                               302  \n",
            "19                                               304  \n",
            "20                                               306  \n",
            "21                                               307  \n",
            "22                                               306  \n",
            "23                                               306  \n",
            "24                                               307  \n",
            "25                                               312  \n",
            "26                                               311  \n",
            "27                                               312  \n",
            "28                                               314  \n",
            "29                                               311  \n",
            "30                                               320  \n",
            "31                                               314  \n",
            "32                                               312  \n",
            "33                                               311  \n",
            "34                                               312  \n",
            "35                                               318  \n",
            "36                                               315       label\n",
            "0       1\n",
            "1       1\n",
            "2       1\n",
            "3       1\n",
            "4       1\n",
            "5       1\n",
            "6       1\n",
            "7       1\n",
            "8       0\n",
            "9       0\n",
            "10      1\n",
            "11      0\n",
            "12      1\n",
            "13      1\n",
            "14      1\n",
            "15      0\n",
            "16      0\n",
            "17      0\n",
            "18      0\n",
            "19      1\n",
            "20      1\n",
            "21      1\n",
            "22      1\n",
            "23      1\n",
            "24      1\n",
            "25      1\n",
            "26      1\n",
            "27      1\n",
            "28      1\n",
            "29      1\n",
            "30      1\n",
            "31      1\n",
            "32      1\n",
            "33      1\n",
            "34      1\n",
            "35      1\n",
            "36      1\n"
          ]
        }
      ]
    },
    {
      "cell_type": "code",
      "source": [
        "import matplotlib.pyplot as plt\n",
        "import csv\n",
        "import numpy as np\n",
        "\n",
        "y = df.Median_weekly_earnings_in_current_dollars_Total\n",
        "x = df.workers_in_thousands_Total\n",
        "\n",
        "\n",
        "x = [[i] for i in list(x)]\n",
        "y = [[i] for i in list(y)]\n",
        "print(x,y)\n",
        "\n",
        "    \n",
        "\n",
        "model = LinearRegression()\n",
        "model.fit(x,y)\n",
        "\n",
        "\n",
        "plt.plot(x, y, '.')\n",
        "plt.plot(x,model.predict(x),'--')\n",
        "\n",
        "\n",
        "plt.xlabel('Number Of Workers')\n",
        "plt.ylabel('Salary in $')\n",
        "plt.title('Salary Analysis', fontsize = 20)\n",
        "plt.grid()\n",
        "plt.legend()\n",
        "plt.show()"
      ],
      "metadata": {
        "colab": {
          "base_uri": "https://localhost:8080/",
          "height": 357
        },
        "id": "_uByKGOLuUTB",
        "outputId": "76c39367-0edd-4f30-edca-b43735dc156c"
      },
      "execution_count": null,
      "outputs": [
        {
          "output_type": "stream",
          "name": "stderr",
          "text": [
            "WARNING:matplotlib.legend:No handles with labels found to put in legend.\n"
          ]
        },
        {
          "output_type": "stream",
          "name": "stdout",
          "text": [
            "[[98555], [98143], [99605], [100412], [99958], [99670], [100347], [100495], [101337], [102161], [102525], [102587], [103748], [103928], [103988], [104400], [104764], [105633], [106342], [106726], [107436], [108486], [108544], [109269], [110049], [110427], [110929], [111566], [111463], [111978], [113118], [113623], [114372], [114678], [115481], [115945], [116160]] [[747], [748], [742], [746], [750], [750], [754], [760], [760], [764], [772], [766], [771], [768], [777], [779], [782], [790], [781], [798], [795], [801], [803], [810], [822], [823], [827], [833], [846], [857], [862], [865], [854], [874], [880], [893], [897]]\n"
          ]
        },
        {
          "output_type": "display_data",
          "data": {
            "text/plain": [
              "<Figure size 432x288 with 1 Axes>"
            ],
            "image/png": "[encoded data removed]"
          },
          "metadata": {
            "needs_background": "light"
          }
        }
      ]
    },
    {
      "cell_type": "code",
      "execution_count": null,
      "metadata": {
        "id": "HnCs5vMduMNg"
      },
      "outputs": [],
      "source": [
        "from sklearn.model_selection import train_test_split\n",
        "x_train,x_test,y_train,y_test = train_test_split(x,y,test_size=0.3, random_state = 0)"
      ]
    },
    {
      "cell_type": "code",
      "source": [],
      "metadata": {
        "id": "YDbKW-3nwGOo"
      },
      "execution_count": null,
      "outputs": []
    },
    {
      "cell_type": "code",
      "source": [],
      "metadata": {
        "id": "11B_-g9lwHuu"
      },
      "execution_count": null,
      "outputs": []
    },
    {
      "cell_type": "markdown",
      "source": [
        "# ***NEW***"
      ],
      "metadata": {
        "id": "OBFDnXYJwIiO"
      }
    },
    {
      "cell_type": "code",
      "source": [
        "import pandas as pd\n",
        "import matplotlib.pyplot as plt\n",
        "import seaborn as sns\n",
        "import numpy as np\n",
        "from sklearn.model_selection import train_test_split\n",
        "from sklearn.neighbors import KNeighborsClassifier\n",
        "from sklearn.preprocessing import MinMaxScaler\n",
        "from sklearn.metrics import plot_confusion_matrix"
      ],
      "metadata": {
        "id": "xfhybBhDwM9R"
      },
      "execution_count": null,
      "outputs": []
    },
    {
      "cell_type": "code",
      "source": [
        "cac_df = pd.read_csv('Salary.csv')\n",
        "cac_df.head()"
      ],
      "metadata": {
        "colab": {
          "base_uri": "https://localhost:8080/",
          "height": 287
        },
        "id": "XGYRfu59wNNH",
        "outputId": "68b38c9d-160e-4816-fbcb-ea620cca07eb"
      },
      "execution_count": null,
      "outputs": [
        {
          "output_type": "execute_result",
          "data": {
            "text/plain": [
              "   Year  Quarter  workers_in_thousands_Total  workers_in thousands_Men  \\\n",
              "0  2009        4                       98555                     54410   \n",
              "1  2010        1                       98143                     54098   \n",
              "2  2010        2                       99605                     55028   \n",
              "3  2010        3                      100412                     55620   \n",
              "4  2010        4                       99958                     55486   \n",
              "\n",
              "   workers_in_thousands_Women  \\\n",
              "0                       44145   \n",
              "1                       44045   \n",
              "2                       44577   \n",
              "3                       44792   \n",
              "4                       44472   \n",
              "\n",
              "   Median_weekly_earnings_in_current_dollars_Total  \\\n",
              "0                                              747   \n",
              "1                                              748   \n",
              "2                                              742   \n",
              "3                                              746   \n",
              "4                                              750   \n",
              "\n",
              "   Median_weekly_earnings_in_current_dollars_Men  \\\n",
              "0                                            823   \n",
              "1                                            836   \n",
              "2                                            814   \n",
              "3                                            821   \n",
              "4                                            826   \n",
              "\n",
              "   Median_weekly_earnings_in_current_dollars_Women  \\\n",
              "0                                              666   \n",
              "1                                              662   \n",
              "2                                              671   \n",
              "3                                              670   \n",
              "4                                              676   \n",
              "\n",
              "   Median_weekly_earnings_in_constant_dollars_Total  \\\n",
              "0                                               344   \n",
              "1                                               344   \n",
              "2                                               342   \n",
              "3                                               342   \n",
              "4                                               341   \n",
              "\n",
              "   Median_weekly_earnings_in_constant_dollars_men  \\\n",
              "0                                             379   \n",
              "1                                             384   \n",
              "2                                             374   \n",
              "3                                             377   \n",
              "4                                             376   \n",
              "\n",
              "   Median_weekly_earnings_in_constant_dollars_Women  label  \n",
              "0                                               307      1  \n",
              "1                                               304      1  \n",
              "2                                               309      1  \n",
              "3                                               308      1  \n",
              "4                                               308      1  "
            ],
            "text/html": [
              "\n",
              "  <div id=\"df-b36e539b-f430-402e-9fab-f6dc8b2fbad1\">\n",
              "    <div class=\"colab-df-container\">\n",
              "      <div>\n",
              "<style scoped>\n",
              "    .dataframe tbody tr th:only-of-type {\n",
              "        vertical-align: middle;\n",
              "    }\n",
              "\n",
              "    .dataframe tbody tr th {\n",
              "        vertical-align: top;\n",
              "    }\n",
              "\n",
              "    .dataframe thead th {\n",
              "        text-align: right;\n",
              "    }\n",
              "</style>\n",
              "<table border=\"1\" class=\"dataframe\">\n",
              "  <thead>\n",
              "    <tr style=\"text-align: right;\">\n",
              "      <th></th>\n",
              "      <th>Year</th>\n",
              "      <th>Quarter</th>\n",
              "      <th>workers_in_thousands_Total</th>\n",
              "      <th>workers_in thousands_Men</th>\n",
              "      <th>workers_in_thousands_Women</th>\n",
              "      <th>Median_weekly_earnings_in_current_dollars_Total</th>\n",
              "      <th>Median_weekly_earnings_in_current_dollars_Men</th>\n",
              "      <th>Median_weekly_earnings_in_current_dollars_Women</th>\n",
              "      <th>Median_weekly_earnings_in_constant_dollars_Total</th>\n",
              "      <th>Median_weekly_earnings_in_constant_dollars_men</th>\n",
              "      <th>Median_weekly_earnings_in_constant_dollars_Women</th>\n",
              "      <th>label</th>\n",
              "    </tr>\n",
              "  </thead>\n",
              "  <tbody>\n",
              "    <tr>\n",
              "      <th>0</th>\n",
              "      <td>2009</td>\n",
              "      <td>4</td>\n",
              "      <td>98555</td>\n",
              "      <td>54410</td>\n",
              "      <td>44145</td>\n",
              "      <td>747</td>\n",
              "      <td>823</td>\n",
              "      <td>666</td>\n",
              "      <td>344</td>\n",
              "      <td>379</td>\n",
              "      <td>307</td>\n",
              "      <td>1</td>\n",
              "    </tr>\n",
              "    <tr>\n",
              "      <th>1</th>\n",
              "      <td>2010</td>\n",
              "      <td>1</td>\n",
              "      <td>98143</td>\n",
              "      <td>54098</td>\n",
              "      <td>44045</td>\n",
              "      <td>748</td>\n",
              "      <td>836</td>\n",
              "      <td>662</td>\n",
              "      <td>344</td>\n",
              "      <td>384</td>\n",
              "      <td>304</td>\n",
              "      <td>1</td>\n",
              "    </tr>\n",
              "    <tr>\n",
              "      <th>2</th>\n",
              "      <td>2010</td>\n",
              "      <td>2</td>\n",
              "      <td>99605</td>\n",
              "      <td>55028</td>\n",
              "      <td>44577</td>\n",
              "      <td>742</td>\n",
              "      <td>814</td>\n",
              "      <td>671</td>\n",
              "      <td>342</td>\n",
              "      <td>374</td>\n",
              "      <td>309</td>\n",
              "      <td>1</td>\n",
              "    </tr>\n",
              "    <tr>\n",
              "      <th>3</th>\n",
              "      <td>2010</td>\n",
              "      <td>3</td>\n",
              "      <td>100412</td>\n",
              "      <td>55620</td>\n",
              "      <td>44792</td>\n",
              "      <td>746</td>\n",
              "      <td>821</td>\n",
              "      <td>670</td>\n",
              "      <td>342</td>\n",
              "      <td>377</td>\n",
              "      <td>308</td>\n",
              "      <td>1</td>\n",
              "    </tr>\n",
              "    <tr>\n",
              "      <th>4</th>\n",
              "      <td>2010</td>\n",
              "      <td>4</td>\n",
              "      <td>99958</td>\n",
              "      <td>55486</td>\n",
              "      <td>44472</td>\n",
              "      <td>750</td>\n",
              "      <td>826</td>\n",
              "      <td>676</td>\n",
              "      <td>341</td>\n",
              "      <td>376</td>\n",
              "      <td>308</td>\n",
              "      <td>1</td>\n",
              "    </tr>\n",
              "  </tbody>\n",
              "</table>\n",
              "</div>\n",
              "      <button class=\"colab-df-convert\" onclick=\"convertToInteractive('df-b36e539b-f430-402e-9fab-f6dc8b2fbad1')\"\n",
              "              title=\"Convert this dataframe to an interactive table.\"\n",
              "              style=\"display:none;\">\n",
              "        \n",
              "  <svg xmlns=\"http://www.w3.org/2000/svg\" height=\"24px\"viewBox=\"0 0 24 24\"\n",
              "       width=\"24px\">\n",
              "    <path d=\"M0 0h24v24H0V0z\" fill=\"none\"/>\n",
              "    <path d=\"M18.56 5.44l.94 2.06.94-2.06 2.06-.94-2.06-.94-.94-2.06-.94 2.06-2.06.94zm-11 1L8.5 8.5l.94-2.06 2.06-.94-2.06-.94L8.5 2.5l-.94 2.06-2.06.94zm10 10l.94 2.06.94-2.06 2.06-.94-2.06-.94-.94-2.06-.94 2.06-2.06.94z\"/><path d=\"M17.41 7.96l-1.37-1.37c-.4-.4-.92-.59-1.43-.59-.52 0-1.04.2-1.43.59L10.3 9.45l-7.72 7.72c-.78.78-.78 2.05 0 2.83L4 21.41c.39.39.9.59 1.41.59.51 0 1.02-.2 1.41-.59l7.78-7.78 2.81-2.81c.8-.78.8-2.07 0-2.86zM5.41 20L4 18.59l7.72-7.72 1.47 1.35L5.41 20z\"/>\n",
              "  </svg>\n",
              "      </button>\n",
              "      \n",
              "  <style>\n",
              "    .colab-df-container {\n",
              "      display:flex;\n",
              "      flex-wrap:wrap;\n",
              "      gap: 12px;\n",
              "    }\n",
              "\n",
              "    .colab-df-convert {\n",
              "      background-color: #E8F0FE;\n",
              "      border: none;\n",
              "      border-radius: 50%;\n",
              "      cursor: pointer;\n",
              "      display: none;\n",
              "      fill: #1967D2;\n",
              "      height: 32px;\n",
              "      padding: 0 0 0 0;\n",
              "      width: 32px;\n",
              "    }\n",
              "\n",
              "    .colab-df-convert:hover {\n",
              "      background-color: #E2EBFA;\n",
              "      box-shadow: 0px 1px 2px rgba(60, 64, 67, 0.3), 0px 1px 3px 1px rgba(60, 64, 67, 0.15);\n",
              "      fill: #174EA6;\n",
              "    }\n",
              "\n",
              "    [theme=dark] .colab-df-convert {\n",
              "      background-color: #3B4455;\n",
              "      fill: #D2E3FC;\n",
              "    }\n",
              "\n",
              "    [theme=dark] .colab-df-convert:hover {\n",
              "      background-color: #434B5C;\n",
              "      box-shadow: 0px 1px 3px 1px rgba(0, 0, 0, 0.15);\n",
              "      filter: drop-shadow(0px 1px 2px rgba(0, 0, 0, 0.3));\n",
              "      fill: #FFFFFF;\n",
              "    }\n",
              "  </style>\n",
              "\n",
              "      <script>\n",
              "        const buttonEl =\n",
              "          document.querySelector('#df-b36e539b-f430-402e-9fab-f6dc8b2fbad1 button.colab-df-convert');\n",
              "        buttonEl.style.display =\n",
              "          google.colab.kernel.accessAllowed ? 'block' : 'none';\n",
              "\n",
              "        async function convertToInteractive(key) {\n",
              "          const element = document.querySelector('#df-b36e539b-f430-402e-9fab-f6dc8b2fbad1');\n",
              "          const dataTable =\n",
              "            await google.colab.kernel.invokeFunction('convertToInteractive',\n",
              "                                                     [key], {});\n",
              "          if (!dataTable) return;\n",
              "\n",
              "          const docLinkHtml = 'Like what you see? Visit the ' +\n",
              "            '<a target=\"_blank\" href=https://colab.research.google.com/notebooks/data_table.ipynb>data table notebook</a>'\n",
              "            + ' to learn more about interactive tables.';\n",
              "          element.innerHTML = '';\n",
              "          dataTable['output_type'] = 'display_data';\n",
              "          await google.colab.output.renderOutput(dataTable, element);\n",
              "          const docLink = document.createElement('div');\n",
              "          docLink.innerHTML = docLinkHtml;\n",
              "          element.appendChild(docLink);\n",
              "        }\n",
              "      </script>\n",
              "    </div>\n",
              "  </div>\n",
              "  "
            ]
          },
          "metadata": {},
          "execution_count": 13
        }
      ]
    },
    {
      "cell_type": "code",
      "source": [
        "cac_df.isnull().any()"
      ],
      "metadata": {
        "colab": {
          "base_uri": "https://localhost:8080/"
        },
        "id": "_yYi5SdCwNQo",
        "outputId": "828ee7ef-2343-4e52-91a2-58c543d5acc3"
      },
      "execution_count": null,
      "outputs": [
        {
          "output_type": "execute_result",
          "data": {
            "text/plain": [
              "Year                                                False\n",
              "Quarter                                             False\n",
              "workers_in_thousands_Total                          False\n",
              "workers_in thousands_Men                            False\n",
              "workers_in_thousands_Women                          False\n",
              "Median_weekly_earnings_in_current_dollars_Total     False\n",
              "Median_weekly_earnings_in_current_dollars_Men       False\n",
              "Median_weekly_earnings_in_current_dollars_Women     False\n",
              "Median_weekly_earnings_in_constant_dollars_Total    False\n",
              "Median_weekly_earnings_in_constant_dollars_men      False\n",
              "Median_weekly_earnings_in_constant_dollars_Women    False\n",
              "label                                               False\n",
              "dtype: bool"
            ]
          },
          "metadata": {},
          "execution_count": 14
        }
      ]
    },
    {
      "cell_type": "code",
      "source": [
        "features = cac_df[['Median_weekly_earnings_in_constant_dollars_men', 'Median_weekly_earnings_in_constant_dollars_Women']]\n",
        "label = cac_df[['label']]\n",
        "# print(features, label)"
      ],
      "metadata": {
        "id": "NlNRzGwcwNT6"
      },
      "execution_count": null,
      "outputs": []
    },
    {
      "cell_type": "code",
      "source": [
        "from sklearn.model_selection import train_test_split\n",
        "x_train,x_test,y_train,y_test = train_test_split(features,label,test_size=0.3, random_state = 0)"
      ],
      "metadata": {
        "id": "_JDggvOWwNXB"
      },
      "execution_count": null,
      "outputs": []
    },
    {
      "cell_type": "code",
      "source": [
        "clf = KNeighborsClassifier(n_neighbors=3)\n",
        "# clf.fit(features, label)\n",
        "clf.fit(x_train,y_train)\n",
        "clf.score(x_test,y_test)"
      ],
      "metadata": {
        "colab": {
          "base_uri": "https://localhost:8080/"
        },
        "id": "rHyHhF-Gwa2B",
        "outputId": "22e5bdfb-5524-4a2f-d363-cec677a3ea23"
      },
      "execution_count": null,
      "outputs": [
        {
          "output_type": "stream",
          "name": "stderr",
          "text": [
            "/usr/local/lib/python3.7/dist-packages/sklearn/neighbors/_classification.py:198: DataConversionWarning: A column-vector y was passed when a 1d array was expected. Please change the shape of y to (n_samples,), for example using ravel().\n",
            "  return self._fit(X, y)\n"
          ]
        },
        {
          "output_type": "execute_result",
          "data": {
            "text/plain": [
              "1.0"
            ]
          },
          "metadata": {},
          "execution_count": 37
        }
      ]
    },
    {
      "cell_type": "code",
      "source": [
        "print(y_test)\n",
        "y_predict = clf.predict(x_test)\n",
        "print(y_predict)"
      ],
      "metadata": {
        "colab": {
          "base_uri": "https://localhost:8080/"
        },
        "id": "odPxzMqBwa5x",
        "outputId": "0a0f3ba2-b4d3-4f6a-bef8-502771a8de63"
      },
      "execution_count": null,
      "outputs": [
        {
          "output_type": "stream",
          "name": "stdout",
          "text": [
            "    label\n",
            "22      1\n",
            "20      1\n",
            "16      0\n",
            "10      1\n",
            "31      1\n",
            "28      1\n",
            "15      0\n",
            "11      0\n",
            "2       1\n",
            "25      1\n",
            "30      1\n",
            "32      1\n",
            "[1 1 0 1 1 1 0 0 1 1 1 1]\n"
          ]
        }
      ]
    },
    {
      "cell_type": "code",
      "source": [
        "preds =clf.predict([[379,307]])\n",
        "pred2 = clf.predict([[300,250]])\n",
        "print(preds , pred2)"
      ],
      "metadata": {
        "colab": {
          "base_uri": "https://localhost:8080/"
        },
        "id": "uq2wGrF5wa9C",
        "outputId": "9f1424c6-e31e-49fb-c434-f3f1abdccf8a"
      },
      "execution_count": null,
      "outputs": [
        {
          "output_type": "stream",
          "name": "stdout",
          "text": [
            "[1] [0]\n"
          ]
        },
        {
          "output_type": "stream",
          "name": "stderr",
          "text": [
            "/usr/local/lib/python3.7/dist-packages/sklearn/base.py:451: UserWarning: X does not have valid feature names, but KNeighborsClassifier was fitted with feature names\n",
            "  \"X does not have valid feature names, but\"\n",
            "/usr/local/lib/python3.7/dist-packages/sklearn/base.py:451: UserWarning: X does not have valid feature names, but KNeighborsClassifier was fitted with feature names\n",
            "  \"X does not have valid feature names, but\"\n"
          ]
        }
      ]
    },
    {
      "cell_type": "code",
      "source": [
        "# def getAccuracy(testSet, prediction):\n",
        "#     correct = 0\n",
        "#     for x in range(len(testSet)):\n",
        "#         print(\"valueof x\" ,x)\n",
        "#         if testSet[x][-1] is predictions[x]:\n",
        "#             print(\"insifde x: \" , x)\n",
        "#             correct +=1\n",
        "#     return (correct/float(len(testSet))) * 100.0"
      ],
      "metadata": {
        "id": "-PZPcFakwbA_"
      },
      "execution_count": null,
      "outputs": []
    },
    {
      "cell_type": "code",
      "source": [
        "testSet = [[x_test, y_test]]\n",
        "# print(len(testSet))\n",
        "predictions = [1, 1, 0, 1, 1, 1, 0, 0, 1, 1, 1, 0, 0]\n",
        "print(predictions)\n",
        "accuracy = getAccuracy(testSet, predictions)\n",
        "print(accuracy)"
      ],
      "metadata": {
        "colab": {
          "base_uri": "https://localhost:8080/"
        },
        "id": "T0qmb8GJwqTm",
        "outputId": "9e428088-de5d-4708-915b-8f2149741cbf"
      },
      "execution_count": null,
      "outputs": [
        {
          "output_type": "stream",
          "name": "stdout",
          "text": [
            "[1, 1, 0, 1, 1, 1, 0, 0, 1, 1, 1, 0, 0]\n",
            "valueof x 0\n",
            "0.0\n"
          ]
        }
      ]
    },
    {
      "cell_type": "code",
      "source": [],
      "metadata": {
        "id": "rUrtTJJ3wurn"
      },
      "execution_count": null,
      "outputs": []
    },
    {
      "cell_type": "code",
      "source": [
        "from sklearn import preprocessing\n",
        "x = cac_df[['Median_weekly_earnings_in_constant_dollars_men', 'Median_weekly_earnings_in_constant_dollars_Women', 'Median_weekly_earnings_in_constant_dollars_Total']]\n",
        "y = cac_df[['label']]\n",
        "\n",
        "#MinMax Normalization\n",
        "scaler = MinMaxScaler()\n",
        "for column in x.columns:\n",
        "  x[column]= scaler.fit_transform(x[[column]])"
      ],
      "metadata": {
        "colab": {
          "base_uri": "https://localhost:8080/"
        },
        "id": "z2hRBtq2wy2h",
        "outputId": "b83664aa-cc71-438a-bbd2-33f1c41a3f42"
      },
      "execution_count": null,
      "outputs": [
        {
          "output_type": "stream",
          "name": "stderr",
          "text": [
            "/usr/local/lib/python3.7/dist-packages/ipykernel_launcher.py:8: SettingWithCopyWarning: \n",
            "A value is trying to be set on a copy of a slice from a DataFrame.\n",
            "Try using .loc[row_indexer,col_indexer] = value instead\n",
            "\n",
            "See the caveats in the documentation: https://pandas.pydata.org/pandas-docs/stable/user_guide/indexing.html#returning-a-view-versus-a-copy\n",
            "  \n",
            "/usr/local/lib/python3.7/dist-packages/ipykernel_launcher.py:8: SettingWithCopyWarning: \n",
            "A value is trying to be set on a copy of a slice from a DataFrame.\n",
            "Try using .loc[row_indexer,col_indexer] = value instead\n",
            "\n",
            "See the caveats in the documentation: https://pandas.pydata.org/pandas-docs/stable/user_guide/indexing.html#returning-a-view-versus-a-copy\n",
            "  \n",
            "/usr/local/lib/python3.7/dist-packages/ipykernel_launcher.py:8: SettingWithCopyWarning: \n",
            "A value is trying to be set on a copy of a slice from a DataFrame.\n",
            "Try using .loc[row_indexer,col_indexer] = value instead\n",
            "\n",
            "See the caveats in the documentation: https://pandas.pydata.org/pandas-docs/stable/user_guide/indexing.html#returning-a-view-versus-a-copy\n",
            "  \n"
          ]
        }
      ]
    },
    {
      "cell_type": "code",
      "source": [
        "print(x)"
      ],
      "metadata": {
        "colab": {
          "base_uri": "https://localhost:8080/"
        },
        "id": "FtuhuG0xwyzp",
        "outputId": "ef0770dd-6c79-42d1-f64d-d53536ee9eff"
      },
      "execution_count": null,
      "outputs": [
        {
          "output_type": "stream",
          "name": "stdout",
          "text": [
            "    Median_weekly_earnings_in_constant_dollars_men  \\\n",
            "0                                         0.551724   \n",
            "1                                         0.724138   \n",
            "2                                         0.379310   \n",
            "3                                         0.482759   \n",
            "4                                         0.448276   \n",
            "5                                         0.241379   \n",
            "6                                         0.241379   \n",
            "7                                         0.241379   \n",
            "8                                         0.206897   \n",
            "9                                         0.172414   \n",
            "10                                        0.586207   \n",
            "11                                        0.034483   \n",
            "12                                        0.413793   \n",
            "13                                        0.241379   \n",
            "14                                        0.310345   \n",
            "15                                        0.137931   \n",
            "16                                        0.206897   \n",
            "17                                        0.137931   \n",
            "18                                        0.000000   \n",
            "19                                        0.241379   \n",
            "20                                        0.275862   \n",
            "21                                        0.482759   \n",
            "22                                        0.448276   \n",
            "23                                        0.482759   \n",
            "24                                        0.586207   \n",
            "25                                        0.586207   \n",
            "26                                        0.655172   \n",
            "27                                        0.620690   \n",
            "28                                        0.655172   \n",
            "29                                        0.758621   \n",
            "30                                        0.758621   \n",
            "31                                        0.758621   \n",
            "32                                        0.620690   \n",
            "33                                        0.689655   \n",
            "34                                        0.758621   \n",
            "35                                        0.896552   \n",
            "36                                        1.000000   \n",
            "\n",
            "    Median_weekly_earnings_in_constant_dollars_Women  \\\n",
            "0                                           0.409091   \n",
            "1                                           0.272727   \n",
            "2                                           0.500000   \n",
            "3                                           0.454545   \n",
            "4                                           0.454545   \n",
            "5                                           0.363636   \n",
            "6                                           0.363636   \n",
            "7                                           0.136364   \n",
            "8                                           0.181818   \n",
            "9                                           0.227273   \n",
            "10                                          0.090909   \n",
            "11                                          0.181818   \n",
            "12                                          0.000000   \n",
            "13                                          0.136364   \n",
            "14                                          0.272727   \n",
            "15                                          0.181818   \n",
            "16                                          0.272727   \n",
            "17                                          0.272727   \n",
            "18                                          0.181818   \n",
            "19                                          0.272727   \n",
            "20                                          0.363636   \n",
            "21                                          0.409091   \n",
            "22                                          0.363636   \n",
            "23                                          0.363636   \n",
            "24                                          0.409091   \n",
            "25                                          0.636364   \n",
            "26                                          0.590909   \n",
            "27                                          0.636364   \n",
            "28                                          0.727273   \n",
            "29                                          0.590909   \n",
            "30                                          1.000000   \n",
            "31                                          0.727273   \n",
            "32                                          0.636364   \n",
            "33                                          0.590909   \n",
            "34                                          0.636364   \n",
            "35                                          0.909091   \n",
            "36                                          0.772727   \n",
            "\n",
            "    Median_weekly_earnings_in_constant_dollars_Total  \n",
            "0                                               0.56  \n",
            "1                                               0.56  \n",
            "2                                               0.48  \n",
            "3                                               0.48  \n",
            "4                                               0.44  \n",
            "5                                               0.32  \n",
            "6                                               0.24  \n",
            "7                                               0.24  \n",
            "8                                               0.20  \n",
            "9                                               0.20  \n",
            "10                                              0.28  \n",
            "11                                              0.12  \n",
            "12                                              0.12  \n",
            "13                                              0.04  \n",
            "14                                              0.20  \n",
            "15                                              0.16  \n",
            "16                                              0.16  \n",
            "17                                              0.20  \n",
            "18                                              0.00  \n",
            "19                                              0.24  \n",
            "20                                              0.24  \n",
            "21                                              0.44  \n",
            "22                                              0.36  \n",
            "23                                              0.44  \n",
            "24                                              0.60  \n",
            "25                                              0.64  \n",
            "26                                              0.60  \n",
            "27                                              0.64  \n",
            "28                                              0.76  \n",
            "29                                              0.84  \n",
            "30                                              0.92  \n",
            "31                                              0.92  \n",
            "32                                              0.60  \n",
            "33                                              0.80  \n",
            "34                                              0.84  \n",
            "35                                              1.00  \n",
            "36                                              1.00  \n"
          ]
        }
      ]
    },
    {
      "cell_type": "code",
      "source": [
        "#confusion matrix\n",
        "plot_confusion_matrix(clf, x_test, y_test)"
      ],
      "metadata": {
        "colab": {
          "base_uri": "https://localhost:8080/",
          "height": 358
        },
        "id": "fKmxuSimwywH",
        "outputId": "f42e456a-1870-4dc5-c9c7-6f71be34efab"
      },
      "execution_count": null,
      "outputs": [
        {
          "output_type": "stream",
          "name": "stderr",
          "text": [
            "/usr/local/lib/python3.7/dist-packages/sklearn/utils/deprecation.py:87: FutureWarning: Function plot_confusion_matrix is deprecated; Function `plot_confusion_matrix` is deprecated in 1.0 and will be removed in 1.2. Use one of the class methods: ConfusionMatrixDisplay.from_predictions or ConfusionMatrixDisplay.from_estimator.\n",
            "  warnings.warn(msg, category=FutureWarning)\n"
          ]
        },
        {
          "output_type": "execute_result",
          "data": {
            "text/plain": [
              "<sklearn.metrics._plot.confusion_matrix.ConfusionMatrixDisplay at 0x7f6a624b4f10>"
            ]
          },
          "metadata": {},
          "execution_count": 24
        },
        {
          "output_type": "display_data",
          "data": {
            "text/plain": [
              "<Figure size 432x288 with 2 Axes>"
            ],
            "image/png": "[encoded data removed]"
          },
          "metadata": {
            "needs_background": "light"
          }
        }
      ]
    },
    {
      "cell_type": "code",
      "source": [
        "from sklearn.cluster import KMeans\n",
        "from sklearn import metrics\n",
        "from scipy.spatial.distance import cdist\n",
        "import numpy as np\n",
        "import matplotlib.pyplot as plt\n"
      ],
      "metadata": {
        "id": "BI_uajIYyWls"
      },
      "execution_count": null,
      "outputs": []
    },
    {
      "cell_type": "code",
      "source": [],
      "metadata": {
        "id": "KrsgxhIMzfWH"
      },
      "execution_count": null,
      "outputs": []
    },
    {
      "cell_type": "code",
      "source": [],
      "metadata": {
        "id": "TN6XWz8fzfZQ"
      },
      "execution_count": null,
      "outputs": []
    },
    {
      "cell_type": "markdown",
      "source": [
        "# ***KNN DATA SET LAB3***"
      ],
      "metadata": {
        "id": "NBlwDgmF14E-"
      }
    },
    {
      "cell_type": "code",
      "source": [
        "import numpy as np\n",
        "import matplotlib.pyplot as plt\n",
        "import pandas as pd\n",
        "import sklearn\n"
      ],
      "metadata": {
        "id": "r_H6suxdyWou"
      },
      "execution_count": null,
      "outputs": []
    },
    {
      "cell_type": "code",
      "source": [
        "dataset = pd.read_csv('Salary.csv')\n",
        "X = cac_df[['Median_weekly_earnings_in_constant_dollars_men', 'Median_weekly_earnings_in_constant_dollars_Women']]\n",
        "y = cac_df[['label']]"
      ],
      "metadata": {
        "id": "RWFJ1Xb9zeLP"
      },
      "execution_count": null,
      "outputs": []
    },
    {
      "cell_type": "code",
      "source": [
        "from sklearn.model_selection import train_test_split\n",
        "X_train, X_test, y_train, y_test = train_test_split(X, y, test_size = 0.20, random_state = 0)"
      ],
      "metadata": {
        "id": "I-ZMdRmHw5iK"
      },
      "execution_count": null,
      "outputs": []
    },
    {
      "cell_type": "code",
      "source": [
        "from sklearn.preprocessing import StandardScaler\n",
        "sc = StandardScaler()\n",
        "X_train = sc.fit_transform(X_train)\n",
        "X_test = sc.transform(X_test)"
      ],
      "metadata": {
        "id": "7zw55qAyw5m4"
      },
      "execution_count": null,
      "outputs": []
    },
    {
      "cell_type": "code",
      "source": [
        "from sklearn.neighbors import KNeighborsClassifier\n"
      ],
      "metadata": {
        "id": "zEhRTvC0w5rb"
      },
      "execution_count": null,
      "outputs": []
    },
    {
      "cell_type": "code",
      "source": [
        "classifier = KNeighborsClassifier(n_neighbors = 5, metric = 'minkowski', p = 2)\n",
        "classifier.fit(X_train, y_train)"
      ],
      "metadata": {
        "colab": {
          "base_uri": "https://localhost:8080/"
        },
        "id": "PR9MPG873ZOv",
        "outputId": "d1a9e2a8-de41-463a-ab50-f5f50f9b7c90"
      },
      "execution_count": null,
      "outputs": [
        {
          "output_type": "stream",
          "name": "stderr",
          "text": [
            "/usr/local/lib/python3.7/dist-packages/sklearn/neighbors/_classification.py:198: DataConversionWarning: A column-vector y was passed when a 1d array was expected. Please change the shape of y to (n_samples,), for example using ravel().\n",
            "  return self._fit(X, y)\n"
          ]
        },
        {
          "output_type": "execute_result",
          "data": {
            "text/plain": [
              "KNeighborsClassifier()"
            ]
          },
          "metadata": {},
          "execution_count": 44
        }
      ]
    },
    {
      "cell_type": "code",
      "source": [
        "y_pred = classifier.predict(X_test)"
      ],
      "metadata": {
        "id": "f2BVLluR3ZSC"
      },
      "execution_count": null,
      "outputs": []
    },
    {
      "cell_type": "code",
      "source": [
        "print(\"Y test - > \\n\" , y_test)\n",
        "print(\"\\nY Predict\\n\", y_pred)"
      ],
      "metadata": {
        "colab": {
          "base_uri": "https://localhost:8080/"
        },
        "id": "agfZJ0lC3Zht",
        "outputId": "e8a4da0a-15d4-40db-a39b-ec2ff931ee32"
      },
      "execution_count": null,
      "outputs": [
        {
          "output_type": "stream",
          "name": "stdout",
          "text": [
            "Y test - > \n",
            "     label\n",
            "22      1\n",
            "20      1\n",
            "16      0\n",
            "10      1\n",
            "31      1\n",
            "28      1\n",
            "15      0\n",
            "11      0\n",
            "\n",
            "Y Predict\n",
            " [1 1 0 1 1 1 0 0]\n"
          ]
        }
      ]
    },
    {
      "cell_type": "code",
      "source": [
        "from sklearn.metrics import confusion_matrix,accuracy_score\n",
        "cm = confusion_matrix(y_test, y_pred)\n",
        "ac = accuracy_score(y_test,y_pred)"
      ],
      "metadata": {
        "id": "j0Oeuru932F3"
      },
      "execution_count": null,
      "outputs": []
    },
    {
      "cell_type": "code",
      "source": [
        "print(cm,\"\\n\", ac)"
      ],
      "metadata": {
        "colab": {
          "base_uri": "https://localhost:8080/"
        },
        "id": "ZU7Rd0VQ3-Hp",
        "outputId": "c016c3d9-8456-44cd-b52a-5968b36b9924"
      },
      "execution_count": null,
      "outputs": [
        {
          "output_type": "stream",
          "name": "stdout",
          "text": [
            "[[3 0]\n",
            " [0 5]] \n",
            " 1.0\n"
          ]
        }
      ]
    },
    {
      "cell_type": "code",
      "source": [],
      "metadata": {
        "id": "qLkiHPlF4HJd"
      },
      "execution_count": null,
      "outputs": []
    },
    {
      "cell_type": "markdown",
      "source": [
        "# ***Changing distance and k ***"
      ],
      "metadata": {
        "id": "beSjqo3Q4mCl"
      }
    },
    {
      "cell_type": "code",
      "source": [
        "classifier = KNeighborsClassifier(n_neighbors = 3, metric = 'manhattan', p = 1)\n",
        "classifier.fit(X_train, y_train)\n",
        "y_pred = classifier.predict(X_test)\n",
        "\n",
        "print(\"Y test - > \\n\" , y_test)\n",
        "print(\"\\nY Predict\\n\", y_pred)"
      ],
      "metadata": {
        "colab": {
          "base_uri": "https://localhost:8080/"
        },
        "id": "9DWTymNV4tql",
        "outputId": "81615393-7074-48f0-9aa5-b1e0690d7474"
      },
      "execution_count": null,
      "outputs": [
        {
          "output_type": "stream",
          "name": "stdout",
          "text": [
            "Y test - > \n",
            "     label\n",
            "22      1\n",
            "20      1\n",
            "16      0\n",
            "10      1\n",
            "31      1\n",
            "28      1\n",
            "15      0\n",
            "11      0\n",
            "\n",
            "Y Predict\n",
            " [1 1 0 1 1 1 0 0]\n"
          ]
        },
        {
          "output_type": "stream",
          "name": "stderr",
          "text": [
            "/usr/local/lib/python3.7/dist-packages/sklearn/neighbors/_classification.py:198: DataConversionWarning: A column-vector y was passed when a 1d array was expected. Please change the shape of y to (n_samples,), for example using ravel().\n",
            "  return self._fit(X, y)\n"
          ]
        }
      ]
    },
    {
      "cell_type": "code",
      "source": [
        "from sklearn.metrics import confusion_matrix,accuracy_score\n",
        "cm = confusion_matrix(y_test, y_pred)\n",
        "ac = accuracy_score(y_test,y_pred)\n",
        "print(cm,\"\\n\", ac)"
      ],
      "metadata": {
        "colab": {
          "base_uri": "https://localhost:8080/"
        },
        "id": "cZcufu2e4t43",
        "outputId": "a30375d5-7d27-4486-a04d-f89fc1db4139"
      },
      "execution_count": null,
      "outputs": [
        {
          "output_type": "stream",
          "name": "stdout",
          "text": [
            "[[3 0]\n",
            " [0 5]] \n",
            " 1.0\n"
          ]
        }
      ]
    },
    {
      "cell_type": "code",
      "source": [],
      "metadata": {
        "id": "hy4ltW1o4t8H"
      },
      "execution_count": null,
      "outputs": []
    }
  ]
}