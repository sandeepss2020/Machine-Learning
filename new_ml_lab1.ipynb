{
 "cells": [
  {
   "cell_type": "code",
   "execution_count": 2,
   "id": "e9605e4d",
   "metadata": {},
   "outputs": [],
   "source": [
    "\n",
    "import matplotlib.pyplot as plt\n",
    "from sklearn.linear_model import LinearRegression\n",
    "from sklearn.metrics import mean_squared_error"
   ]
  },
  {
   "cell_type": "markdown",
   "id": "c37778a6",
   "metadata": {},
   "source": [
    "# LOAD THE FILE"
   ]
  },
  {
   "cell_type": "code",
   "execution_count": 3,
   "id": "ab6e1ad9",
   "metadata": {},
   "outputs": [],
   "source": [
    "import pandas as pd\n",
    "df = pd.read_csv (r'C:\\Users\\sande\\Desktop\\python_anaconda\\Salary.csv')\n",
    "df_train = df.head(25)\n",
    "df_test = df.tail(13)\n",
    "# print(df_test)"
   ]
  },
  {
   "cell_type": "code",
   "execution_count": null,
   "id": "471f617c",
   "metadata": {},
   "outputs": [],
   "source": []
  },
  {
   "cell_type": "code",
   "execution_count": 36,
   "id": "1a4297cc",
   "metadata": {},
   "outputs": [
    {
     "name": "stdout",
     "output_type": "stream",
     "text": [
      "Index(['Year', 'Quarter', 'workers_in_thousands_Total',\n",
      "       'workers_in thousands_Men', 'workers_in_thousands_Women',\n",
      "       'Median_weekly_earnings_in_current_dollars_Total',\n",
      "       'Median_weekly_earnings_in_current_dollars_Men',\n",
      "       'Median_weekly_earnings_in_current_dollars_Women',\n",
      "       'Median_weekly_earnings_in_constant_dollars_Total',\n",
      "       'Median_weekly_earnings_in_constant_dollars_men',\n",
      "       'Median_weekly_earnings_in_constant_dollars_Women'],\n",
      "      dtype='object')\n"
     ]
    }
   ],
   "source": [
    "print(df.keys())"
   ]
  },
  {
   "cell_type": "code",
   "execution_count": 18,
   "id": "021f7659",
   "metadata": {
    "scrolled": true
   },
   "outputs": [
    {
     "data": {
      "text/plain": [
       "array([823, 836, 814, 821, 826, 830, 838, 841, 870, 868, 860, 863, 855,\n",
       "       865, 878, 886, 890, 896, 904, 903, 914, 917, 924, 940, 939, 943,\n",
       "       955, 964, 980, 991], dtype=int64)"
      ]
     },
     "execution_count": 18,
     "metadata": {},
     "output_type": "execute_result"
    }
   ],
   "source": [
    "# print(df.data)\n",
    "# print(df.DESCR)\n",
    "\n",
    "\n",
    "\n",
    "# print(df.shape)       #for number of rows and coloumns  \n",
    "\n",
    "\n",
    "# print(df.describe())    #Details of rows and coloumns numbers\n",
    "\n",
    "# df.columns\n",
    "# df.nunique()\n",
    "\n",
    "df['Median_weekly_earnings_in_current_dollars_Men'].unique()"
   ]
  },
  {
   "cell_type": "code",
   "execution_count": 19,
   "id": "5e8bfdfe",
   "metadata": {},
   "outputs": [
    {
     "data": {
      "text/plain": [
       "Year                                                0\n",
       "Quarter                                             0\n",
       "workers_in_thousands_Total                          0\n",
       "workers_in thousands_Men                            0\n",
       "workers_in_thousands_Women                          0\n",
       "Median_weekly_earnings_in_current_dollars_Total     0\n",
       "Median_weekly_earnings_in_current_dollars_Men       0\n",
       "Median_weekly_earnings_in_current_dollars_Women     0\n",
       "Median_weekly_earnings_in_constant_dollars_Total    0\n",
       "Median_weekly_earnings_in_constant_dollars_men      0\n",
       "Median_weekly_earnings_in_constant_dollars_Women    0\n",
       "dtype: int64"
      ]
     },
     "execution_count": 19,
     "metadata": {},
     "output_type": "execute_result"
    }
   ],
   "source": [
    "#cleaning the data\n",
    "\n",
    "df.isnull().sum()"
   ]
  },
  {
   "cell_type": "code",
   "execution_count": 20,
   "id": "ce19c9e2",
   "metadata": {},
   "outputs": [
    {
     "data": {
      "text/html": [
       "<div>\n",
       "<style scoped>\n",
       "    .dataframe tbody tr th:only-of-type {\n",
       "        vertical-align: middle;\n",
       "    }\n",
       "\n",
       "    .dataframe tbody tr th {\n",
       "        vertical-align: top;\n",
       "    }\n",
       "\n",
       "    .dataframe thead th {\n",
       "        text-align: right;\n",
       "    }\n",
       "</style>\n",
       "<table border=\"1\" class=\"dataframe\">\n",
       "  <thead>\n",
       "    <tr style=\"text-align: right;\">\n",
       "      <th></th>\n",
       "      <th>Year</th>\n",
       "      <th>Quarter</th>\n",
       "      <th>workers_in_thousands_Total</th>\n",
       "      <th>workers_in thousands_Men</th>\n",
       "      <th>workers_in_thousands_Women</th>\n",
       "      <th>Median_weekly_earnings_in_current_dollars_Total</th>\n",
       "      <th>Median_weekly_earnings_in_constant_dollars_Total</th>\n",
       "      <th>Median_weekly_earnings_in_constant_dollars_men</th>\n",
       "      <th>Median_weekly_earnings_in_constant_dollars_Women</th>\n",
       "    </tr>\n",
       "  </thead>\n",
       "  <tbody>\n",
       "    <tr>\n",
       "      <th>0</th>\n",
       "      <td>2009</td>\n",
       "      <td>4</td>\n",
       "      <td>98555.0</td>\n",
       "      <td>54,410</td>\n",
       "      <td>44,145</td>\n",
       "      <td>747.0</td>\n",
       "      <td>344</td>\n",
       "      <td>379</td>\n",
       "      <td>307</td>\n",
       "    </tr>\n",
       "    <tr>\n",
       "      <th>1</th>\n",
       "      <td>2010</td>\n",
       "      <td>1</td>\n",
       "      <td>98143.0</td>\n",
       "      <td>54,098</td>\n",
       "      <td>44,045</td>\n",
       "      <td>748.0</td>\n",
       "      <td>344</td>\n",
       "      <td>384</td>\n",
       "      <td>304</td>\n",
       "    </tr>\n",
       "    <tr>\n",
       "      <th>2</th>\n",
       "      <td>2010</td>\n",
       "      <td>2</td>\n",
       "      <td>99605.0</td>\n",
       "      <td>55,028</td>\n",
       "      <td>44,577</td>\n",
       "      <td>742.0</td>\n",
       "      <td>342</td>\n",
       "      <td>374</td>\n",
       "      <td>309</td>\n",
       "    </tr>\n",
       "    <tr>\n",
       "      <th>3</th>\n",
       "      <td>2010</td>\n",
       "      <td>3</td>\n",
       "      <td>100412.0</td>\n",
       "      <td>55,620</td>\n",
       "      <td>44,792</td>\n",
       "      <td>746.0</td>\n",
       "      <td>342</td>\n",
       "      <td>377</td>\n",
       "      <td>308</td>\n",
       "    </tr>\n",
       "    <tr>\n",
       "      <th>4</th>\n",
       "      <td>2010</td>\n",
       "      <td>4</td>\n",
       "      <td>99958.0</td>\n",
       "      <td>55,486</td>\n",
       "      <td>44,472</td>\n",
       "      <td>750.0</td>\n",
       "      <td>341</td>\n",
       "      <td>376</td>\n",
       "      <td>308</td>\n",
       "    </tr>\n",
       "  </tbody>\n",
       "</table>\n",
       "</div>"
      ],
      "text/plain": [
       "   Year  Quarter  workers_in_thousands_Total workers_in thousands_Men  \\\n",
       "0  2009        4                     98555.0                   54,410   \n",
       "1  2010        1                     98143.0                   54,098   \n",
       "2  2010        2                     99605.0                   55,028   \n",
       "3  2010        3                    100412.0                   55,620   \n",
       "4  2010        4                     99958.0                   55,486   \n",
       "\n",
       "  workers_in_thousands_Women  Median_weekly_earnings_in_current_dollars_Total  \\\n",
       "0                     44,145                                            747.0   \n",
       "1                     44,045                                            748.0   \n",
       "2                     44,577                                            742.0   \n",
       "3                     44,792                                            746.0   \n",
       "4                     44,472                                            750.0   \n",
       "\n",
       "   Median_weekly_earnings_in_constant_dollars_Total  \\\n",
       "0                                               344   \n",
       "1                                               344   \n",
       "2                                               342   \n",
       "3                                               342   \n",
       "4                                               341   \n",
       "\n",
       "   Median_weekly_earnings_in_constant_dollars_men  \\\n",
       "0                                             379   \n",
       "1                                             384   \n",
       "2                                             374   \n",
       "3                                             377   \n",
       "4                                             376   \n",
       "\n",
       "   Median_weekly_earnings_in_constant_dollars_Women  \n",
       "0                                               307  \n",
       "1                                               304  \n",
       "2                                               309  \n",
       "3                                               308  \n",
       "4                                               308  "
      ]
     },
     "execution_count": 20,
     "metadata": {},
     "output_type": "execute_result"
    }
   ],
   "source": [
    "#droping the redundant data\n",
    "\n",
    "employee_data = df.drop(['Median_weekly_earnings_in_current_dollars_Men',\n",
    "                    'Median_weekly_earnings_in_current_dollars_Women'\n",
    "                    ],axis = 1)\n",
    "\n",
    "employee_data.head()"
   ]
  },
  {
   "cell_type": "code",
   "execution_count": null,
   "id": "3f46a84f",
   "metadata": {},
   "outputs": [],
   "source": []
  },
  {
   "cell_type": "markdown",
   "id": "aea8a5ed",
   "metadata": {},
   "source": [
    "# Simple Linear Regression Of Salary with number of workers"
   ]
  },
  {
   "cell_type": "code",
   "execution_count": 39,
   "id": "50276eaf",
   "metadata": {},
   "outputs": [
    {
     "name": "stderr",
     "output_type": "stream",
     "text": [
      "No artists with labels found to put in legend.  Note that artists whose label start with an underscore are ignored when legend() is called with no argument.\n"
     ]
    },
    {
     "name": "stdout",
     "output_type": "stream",
     "text": [
      "[[98555.0], [98143.0], [99605.0], [100412.0], [99958.0], [99670.0], [100347.0], [100495.0], [101337.0], [102161.0], [102525.0], [102587.0], [103748.0], [103928.0], [103988.0], [104400.0], [104764.0], [105633.0], [106342.0], [106726.0], [107436.0], [108486.0], [108544.0], [109269.0], [110049.0]] [[747.0], [748.0], [742.0], [746.0], [750.0], [750.0], [754.0], [760.0], [760.0], [764.0], [772.0], [766.0], [771.0], [768.0], [777.0], [779.0], [782.0], [790.0], [781.0], [798.0], [795.0], [801.0], [803.0], [810.0], [822.0]]\n"
     ]
    },
    {
     "data": {
      "image/png": "[encoded data removed]",
      "text/plain": [
       "<Figure size 432x288 with 1 Axes>"
      ]
     },
     "metadata": {
      "needs_background": "light"
     },
     "output_type": "display_data"
    }
   ],
   "source": [
    "import matplotlib.pyplot as plt\n",
    "import csv\n",
    "import numpy as np\n",
    "\n",
    "y = df_train.Median_weekly_earnings_in_current_dollars_Total\n",
    "x = df_train.workers_in_thousands_Total\n",
    "\n",
    "\n",
    "x = [[i] for i in list(x)]\n",
    "y = [[i] for i in list(y)]\n",
    "print(x,y)\n",
    "\n",
    "    \n",
    "\n",
    "model = LinearRegression()\n",
    "model.fit(x,y)\n",
    "\n",
    "\n",
    "plt.plot(x, y, '.')\n",
    "plt.plot(x,model.predict(x),'--')\n",
    "\n",
    "\n",
    "plt.xlabel('Number Of Workers')\n",
    "plt.ylabel('Salary in $')\n",
    "plt.title('Salary Analysis', fontsize = 20)\n",
    "plt.grid()\n",
    "plt.legend()\n",
    "plt.show()"
   ]
  },
  {
   "cell_type": "code",
   "execution_count": 22,
   "id": "fe906227",
   "metadata": {},
   "outputs": [
    {
     "name": "stdout",
     "output_type": "stream",
     "text": [
      "[[742.56484693]\n",
      " [740.02546772]\n",
      " [749.03656579]\n",
      " [754.010544  ]\n",
      " [751.21229604]\n",
      " [749.43719601]\n",
      " [753.60991379]\n",
      " [754.52211797]\n",
      " [759.71182014]\n",
      " [764.79057856]\n",
      " [767.03410777]\n",
      " [767.41624736]\n",
      " [774.57211935]\n",
      " [775.68155687]\n",
      " [776.05136938]\n",
      " [778.59074859]\n",
      " [780.83427779]\n",
      " [786.19039559]\n",
      " [790.56034671]\n",
      " [792.92714675]\n",
      " [797.30326141]\n",
      " [803.77498027]\n",
      " [804.13246569]\n",
      " [808.60103348]\n",
      " [813.40859606]]\n"
     ]
    }
   ],
   "source": [
    "y_pred = model.predict(x)\n",
    "print(y_pred)"
   ]
  },
  {
   "cell_type": "code",
   "execution_count": 25,
   "id": "534a1f99",
   "metadata": {},
   "outputs": [
    {
     "data": {
      "text/plain": [
       "array([[840.05358714]])"
      ]
     },
     "execution_count": 25,
     "metadata": {},
     "output_type": "execute_result"
    }
   ],
   "source": [
    " model.predict([[114372\n",
    "]])"
   ]
  },
  {
   "cell_type": "code",
   "execution_count": null,
   "id": "790b18c3",
   "metadata": {},
   "outputs": [],
   "source": []
  },
  {
   "cell_type": "markdown",
   "id": "3eea0128",
   "metadata": {},
   "source": [
    "# Multiple Linear Regression"
   ]
  },
  {
   "cell_type": "code",
   "execution_count": 9,
   "id": "7a42b03b",
   "metadata": {},
   "outputs": [
    {
     "name": "stdout",
     "output_type": "stream",
     "text": [
      "    workers_in_thousands_Total  workers_in thousands_Men  \\\n",
      "0                      98555.0                   54410.0   \n",
      "1                      98143.0                   54098.0   \n",
      "2                      99605.0                   55028.0   \n",
      "3                     100412.0                   55620.0   \n",
      "4                      99958.0                   55486.0   \n",
      "5                      99670.0                   55337.0   \n",
      "6                     100347.0                   55821.0   \n",
      "7                     100495.0                   56046.0   \n",
      "8                     101337.0                   56687.0   \n",
      "9                     102161.0                   57110.0   \n",
      "10                    102525.0                   57079.0   \n",
      "11                    102587.0                   57207.0   \n",
      "12                    103748.0                   57772.0   \n",
      "13                    103928.0                   57884.0   \n",
      "14                    103988.0                   57944.0   \n",
      "15                    104400.0                   58082.0   \n",
      "16                    104764.0                   58095.0   \n",
      "17                    105633.0                   58682.0   \n",
      "18                    106342.0                   59486.0   \n",
      "19                    106726.0                   59543.0   \n",
      "20                    107436.0                   60123.0   \n",
      "21                    108486.0                   60364.0   \n",
      "22                    108544.0                   60400.0   \n",
      "23                    109269.0                   60977.0   \n",
      "24                    110049.0                   61273.0   \n",
      "25                    110427.0                   61627.0   \n",
      "26                    110929.0                   61787.0   \n",
      "27                    111566.0                   62082.0   \n",
      "28                    111463.0                   62249.0   \n",
      "29                    111978.0                   62462.0   \n",
      "30                    113118.0                   62942.0   \n",
      "31                    113623.0                   63155.0   \n",
      "32                    114372.0                   63377.0   \n",
      "33                    114678.0                   64007.0   \n",
      "34                    115481.0                   64136.0   \n",
      "35                    115945.0                   64198.0   \n",
      "36                    116160.0                   64237.0   \n",
      "37                         NaN                       NaN   \n",
      "38                         NaN                       NaN   \n",
      "39                         NaN                       NaN   \n",
      "40                         NaN                       NaN   \n",
      "41                         NaN                       NaN   \n",
      "42                         NaN                       NaN   \n",
      "43                         NaN                       NaN   \n",
      "44                         NaN                       NaN   \n",
      "\n",
      "    workers_in_thousands_Women  \\\n",
      "0                      44145.0   \n",
      "1                      44045.0   \n",
      "2                      44577.0   \n",
      "3                      44792.0   \n",
      "4                      44472.0   \n",
      "5                      44333.0   \n",
      "6                      44526.0   \n",
      "7                      44449.0   \n",
      "8                      44650.0   \n",
      "9                      45051.0   \n",
      "10                     45447.0   \n",
      "11                     45380.0   \n",
      "12                     45977.0   \n",
      "13                     46044.0   \n",
      "14                     46044.0   \n",
      "15                     46318.0   \n",
      "16                     46669.0   \n",
      "17                     46951.0   \n",
      "18                     46855.0   \n",
      "19                     47183.0   \n",
      "20                     47313.0   \n",
      "21                     48122.0   \n",
      "22                     48144.0   \n",
      "23                     48292.0   \n",
      "24                     48776.0   \n",
      "25                     48799.0   \n",
      "26                     49142.0   \n",
      "27                     49483.0   \n",
      "28                     49214.0   \n",
      "29                     49516.0   \n",
      "30                     50176.0   \n",
      "31                     50468.0   \n",
      "32                     50996.0   \n",
      "33                     50671.0   \n",
      "34                     51345.0   \n",
      "35                     51747.0   \n",
      "36                     51923.0   \n",
      "37                         NaN   \n",
      "38                         NaN   \n",
      "39                         NaN   \n",
      "40                         NaN   \n",
      "41                         NaN   \n",
      "42                         NaN   \n",
      "43                         NaN   \n",
      "44                         NaN   \n",
      "\n",
      "    Median_weekly_earnings_in_constant_dollars_Total  \n",
      "0                                              344.0  \n",
      "1                                              344.0  \n",
      "2                                              342.0  \n",
      "3                                              342.0  \n",
      "4                                              341.0  \n",
      "5                                              338.0  \n",
      "6                                              336.0  \n",
      "7                                              336.0  \n",
      "8                                              335.0  \n",
      "9                                              335.0  \n",
      "10                                             337.0  \n",
      "11                                             333.0  \n",
      "12                                             333.0  \n",
      "13                                             331.0  \n",
      "14                                             335.0  \n",
      "15                                             334.0  \n",
      "16                                             334.0  \n",
      "17                                             335.0  \n",
      "18                                             330.0  \n",
      "19                                             336.0  \n",
      "20                                             336.0  \n",
      "21                                             341.0  \n",
      "22                                             339.0  \n",
      "23                                             341.0  \n",
      "24                                             345.0  \n",
      "25                                             346.0  \n",
      "26                                             345.0  \n",
      "27                                             346.0  \n",
      "28                                             349.0  \n",
      "29                                             351.0  \n",
      "30                                             353.0  \n",
      "31                                             353.0  \n",
      "32                                             345.0  \n",
      "33                                             350.0  \n",
      "34                                             351.0  \n",
      "35                                             355.0  \n",
      "36                                             355.0  \n",
      "37                                               NaN  \n",
      "38                                               NaN  \n",
      "39                                               NaN  \n",
      "40                                               NaN  \n",
      "41                                               NaN  \n",
      "42                                               NaN  \n",
      "43                                               NaN  \n",
      "44                                               NaN  \n"
     ]
    },
    {
     "data": {
      "text/plain": [
       "workers_in_thousands_Total                          8\n",
       "workers_in thousands_Men                            8\n",
       "workers_in_thousands_Women                          8\n",
       "Median_weekly_earnings_in_constant_dollars_Total    8\n",
       "dtype: int64"
      ]
     },
     "execution_count": 9,
     "metadata": {},
     "output_type": "execute_result"
    }
   ],
   "source": [
    "import pandas as pd\n",
    "df = pd.read_csv (r'C:\\Users\\sande\\Desktop\\python_anaconda\\Salary.csv')\n",
    "e_data = df.drop(['Year','Quarter','Median_weekly_earnings_in_current_dollars_Total',\n",
    "                  'Median_weekly_earnings_in_current_dollars_Men','Median_weekly_earnings_in_current_dollars_Women',\n",
    "                  'Median_weekly_earnings_in_constant_dollars_men','Median_weekly_earnings_in_constant_dollars_Women'],axis = 1)\n",
    "print(e_data)\n",
    "\n",
    "# df_train = df.head(25)\n",
    "# df_test = df.tail(13)\n",
    "\n",
    "e_data.isnull().sum()"
   ]
  },
  {
   "cell_type": "code",
   "execution_count": 19,
   "id": "534aee71",
   "metadata": {},
   "outputs": [
    {
     "data": {
      "text/plain": [
       "workers_in_thousands_Total                          0\n",
       "workers_in thousands_Men                            0\n",
       "workers_in_thousands_Women                          0\n",
       "Median_weekly_earnings_in_constant_dollars_Total    0\n",
       "dtype: int64"
      ]
     },
     "execution_count": 19,
     "metadata": {},
     "output_type": "execute_result"
    }
   ],
   "source": [
    "e_data = e_data.dropna()\n",
    "e_data.isnull().sum()\n",
    "\n",
    "# e_data.fillna(0)"
   ]
  },
  {
   "cell_type": "code",
   "execution_count": 21,
   "id": "4ff2cad1",
   "metadata": {},
   "outputs": [],
   "source": [
    "x = e_data.drop(['Median_weekly_earnings_in_constant_dollars_Total'], axis = 1).values\n",
    "y = e_data['Median_weekly_earnings_in_constant_dollars_Total'].values"
   ]
  },
  {
   "cell_type": "code",
   "execution_count": 31,
   "id": "c3b71454",
   "metadata": {},
   "outputs": [
    {
     "name": "stdout",
     "output_type": "stream",
     "text": [
      "[344 344 342 342 341 338 336 336 335 335 337 333 333 331 335 334 334 335\n",
      " 330 336 336 341 339 341 345 346 345 346 349 351 353 353 345 350 351 355\n",
      " 355]\n"
     ]
    }
   ],
   "source": [
    "print(y)"
   ]
  },
  {
   "cell_type": "code",
   "execution_count": 22,
   "id": "c5ebbc96",
   "metadata": {},
   "outputs": [],
   "source": [
    "from sklearn.model_selection import train_test_split\n",
    "x_train,x_test,y_train,y_test = train_test_split(x,y,test_size=0.3, random_state = 0)"
   ]
  },
  {
   "cell_type": "code",
   "execution_count": 23,
   "id": "fb615300",
   "metadata": {},
   "outputs": [
    {
     "data": {
      "text/plain": [
       "LinearRegression()"
      ]
     },
     "execution_count": 23,
     "metadata": {},
     "output_type": "execute_result"
    }
   ],
   "source": [
    "ml = LinearRegression()\n",
    "ml.fit(x_train,y_train)\n"
   ]
  },
  {
   "cell_type": "code",
   "execution_count": 24,
   "id": "7f851986",
   "metadata": {},
   "outputs": [
    {
     "name": "stdout",
     "output_type": "stream",
     "text": [
      "[342.96320939 336.08290962 343.08213135 337.18716016 348.7379655\n",
      " 341.67397548 339.46877867 335.52661451 341.87582035 341.44355199\n",
      " 347.10690947 352.8802507 ]\n"
     ]
    }
   ],
   "source": [
    "#Predict\n",
    "y_predict =ml.predict(x_test)\n",
    "print(y_predict)"
   ]
  },
  {
   "cell_type": "code",
   "execution_count": 25,
   "id": "99bff929",
   "metadata": {},
   "outputs": [
    {
     "data": {
      "text/plain": [
       "array([341.52240973])"
      ]
     },
     "execution_count": 25,
     "metadata": {},
     "output_type": "execute_result"
    }
   ],
   "source": [
    "ml.predict([[98555.0,54410.0,44145.0]])"
   ]
  },
  {
   "cell_type": "code",
   "execution_count": 26,
   "id": "bd6f8038",
   "metadata": {},
   "outputs": [
    {
     "data": {
      "text/plain": [
       "0.4548347634193429"
      ]
     },
     "execution_count": 26,
     "metadata": {},
     "output_type": "execute_result"
    }
   ],
   "source": [
    "#R2 Score\n",
    "from sklearn.metrics import r2_score\n",
    "r2_score(y_test,y_predict)"
   ]
  },
  {
   "cell_type": "code",
   "execution_count": 27,
   "id": "1da46074",
   "metadata": {},
   "outputs": [
    {
     "name": "stderr",
     "output_type": "stream",
     "text": [
      "No artists with labels found to put in legend.  Note that artists whose label start with an underscore are ignored when legend() is called with no argument.\n"
     ]
    },
    {
     "data": {
      "image/png": "[encoded data removed]",
      "text/plain": [
       "<Figure size 432x288 with 1 Axes>"
      ]
     },
     "metadata": {
      "needs_background": "light"
     },
     "output_type": "display_data"
    }
   ],
   "source": [
    "plt.scatter(y_test,y_predict)\n",
    "plt.xlabel('Actual')\n",
    "plt.ylabel('Predicted')\n",
    "plt.title('Actual Vs Predicted', fontsize = 20)\n",
    "plt.grid()\n",
    "plt.legend()\n",
    "plt.show()"
   ]
  },
  {
   "cell_type": "code",
   "execution_count": 28,
   "id": "073cce2c",
   "metadata": {},
   "outputs": [
    {
     "name": "stdout",
     "output_type": "stream",
     "text": [
      "    Actual Value  Predicted Value  Difference\n",
      "0          339.0       342.963209   -3.963209\n",
      "1          336.0       336.082910   -0.082910\n",
      "2          334.0       343.082131   -9.082131\n",
      "3          337.0       337.187160   -0.187160\n",
      "4          353.0       348.737966    4.262034\n",
      "5          349.0       341.673975    7.326025\n",
      "6          334.0       339.468779   -5.468779\n",
      "7          333.0       335.526615   -2.526615\n",
      "8          342.0       341.875820    0.124180\n",
      "9          346.0       341.443552    4.556448\n",
      "10         353.0       347.106909    5.893091\n",
      "11         345.0       352.880251   -7.880251\n"
     ]
    }
   ],
   "source": [
    "#Predicted Values\n",
    "\n",
    "pred_y_df = pd.DataFrame({'Actual Value':y_test, 'Predicted Value':y_predict, 'Difference':y_test - y_predict})\n",
    "print(pred_y_df)"
   ]
  },
  {
   "cell_type": "code",
   "execution_count": null,
   "id": "7895ebcc",
   "metadata": {},
   "outputs": [],
   "source": []
  },
  {
   "cell_type": "code",
   "execution_count": 29,
   "id": "9ccc14d4",
   "metadata": {},
   "outputs": [
    {
     "data": {
      "text/plain": [
       "array([[0.03225806],\n",
       "       [0.03870968],\n",
       "       [0.        ],\n",
       "       [0.02580645],\n",
       "       [0.0516129 ],\n",
       "       [0.0516129 ],\n",
       "       [0.07741935],\n",
       "       [0.11612903],\n",
       "       [0.11612903],\n",
       "       [0.14193548],\n",
       "       [0.19354839],\n",
       "       [0.15483871],\n",
       "       [0.18709677],\n",
       "       [0.16774194],\n",
       "       [0.22580645],\n",
       "       [0.23870968],\n",
       "       [0.25806452],\n",
       "       [0.30967742],\n",
       "       [0.2516129 ],\n",
       "       [0.36129032],\n",
       "       [0.34193548],\n",
       "       [0.38064516],\n",
       "       [0.39354839],\n",
       "       [0.43870968],\n",
       "       [0.51612903],\n",
       "       [0.52258065],\n",
       "       [0.5483871 ],\n",
       "       [0.58709677],\n",
       "       [0.67096774],\n",
       "       [0.74193548],\n",
       "       [0.77419355],\n",
       "       [0.79354839],\n",
       "       [0.72258065],\n",
       "       [0.8516129 ],\n",
       "       [0.89032258],\n",
       "       [0.97419355],\n",
       "       [1.        ],\n",
       "       [       nan],\n",
       "       [       nan],\n",
       "       [       nan],\n",
       "       [       nan],\n",
       "       [       nan],\n",
       "       [       nan],\n",
       "       [       nan],\n",
       "       [       nan]])"
      ]
     },
     "execution_count": 29,
     "metadata": {},
     "output_type": "execute_result"
    }
   ],
   "source": [
    "# 4. Normalizing the data using standard scaler or minmax scaler\n",
    "from sklearn.preprocessing import MinMaxScaler\n",
    "scaler = MinMaxScaler()\n",
    "scaler.fit_transform(df[[\"Median_weekly_earnings_in_current_dollars_Total\"]])"
   ]
  },
  {
   "cell_type": "code",
   "execution_count": null,
   "id": "04223447",
   "metadata": {},
   "outputs": [],
   "source": []
  },
  {
   "cell_type": "code",
   "execution_count": null,
   "id": "bd525510",
   "metadata": {},
   "outputs": [],
   "source": []
  },
  {
   "cell_type": "code",
   "execution_count": 30,
   "id": "3de5e8a8",
   "metadata": {},
   "outputs": [],
   "source": [
    "from sklearn.neighbors import KNeighborsClassifier\n",
    "from sklearn.model_selection import train_test_split\n",
    "from sklearn.metrics import confusion_matrix, classification_report, accuracy_score"
   ]
  },
  {
   "cell_type": "code",
   "execution_count": 31,
   "id": "ee7ab5de",
   "metadata": {},
   "outputs": [
    {
     "data": {
      "text/plain": [
       "array([355., 351., 351., 350., 335., 331., 338., 335., 335., 336., 346.,\n",
       "       344., 333., 345., 345., 336., 341., 341., 330., 341., 336., 335.,\n",
       "       355., 342., 344.])"
      ]
     },
     "execution_count": 31,
     "metadata": {},
     "output_type": "execute_result"
    }
   ],
   "source": [
    "y_train"
   ]
  },
  {
   "cell_type": "code",
   "execution_count": null,
   "id": "61cf2f11",
   "metadata": {},
   "outputs": [],
   "source": []
  },
  {
   "cell_type": "code",
   "execution_count": 37,
   "id": "9438cded",
   "metadata": {},
   "outputs": [
    {
     "name": "stdout",
     "output_type": "stream",
     "text": [
      "[341. 336. 331. 335. 350. 346. 331. 333. 338. 345. 346. 350.]\n",
      "Classification report:\n",
      "               precision    recall  f1-score   support\n",
      "\n",
      "       331.0       0.00      0.00      0.00         0\n",
      "       333.0       1.00      1.00      1.00         1\n",
      "       334.0       0.00      0.00      0.00         2\n",
      "       335.0       0.00      0.00      0.00         0\n",
      "       336.0       1.00      1.00      1.00         1\n",
      "       337.0       0.00      0.00      0.00         1\n",
      "       338.0       0.00      0.00      0.00         0\n",
      "       339.0       0.00      0.00      0.00         1\n",
      "       341.0       0.00      0.00      0.00         0\n",
      "       342.0       0.00      0.00      0.00         1\n",
      "       345.0       0.00      0.00      0.00         1\n",
      "       346.0       0.00      0.00      0.00         1\n",
      "       349.0       0.00      0.00      0.00         1\n",
      "       350.0       0.00      0.00      0.00         0\n",
      "       353.0       0.00      0.00      0.00         2\n",
      "\n",
      "    accuracy                           0.17        12\n",
      "   macro avg       0.13      0.13      0.13        12\n",
      "weighted avg       0.17      0.17      0.17        12\n",
      "\n",
      "Confusion matrix:\n",
      " [[0 0 0 0 0 0 0 0 0 0 0 0 0 0 0]\n",
      " [0 1 0 0 0 0 0 0 0 0 0 0 0 0 0]\n",
      " [2 0 0 0 0 0 0 0 0 0 0 0 0 0 0]\n",
      " [0 0 0 0 0 0 0 0 0 0 0 0 0 0 0]\n",
      " [0 0 0 0 1 0 0 0 0 0 0 0 0 0 0]\n",
      " [0 0 0 1 0 0 0 0 0 0 0 0 0 0 0]\n",
      " [0 0 0 0 0 0 0 0 0 0 0 0 0 0 0]\n",
      " [0 0 0 0 0 0 0 0 1 0 0 0 0 0 0]\n",
      " [0 0 0 0 0 0 0 0 0 0 0 0 0 0 0]\n",
      " [0 0 0 0 0 0 1 0 0 0 0 0 0 0 0]\n",
      " [0 0 0 0 0 0 0 0 0 0 0 0 0 1 0]\n",
      " [0 0 0 0 0 0 0 0 0 0 1 0 0 0 0]\n",
      " [0 0 0 0 0 0 0 0 0 0 0 1 0 0 0]\n",
      " [0 0 0 0 0 0 0 0 0 0 0 0 0 0 0]\n",
      " [0 0 0 0 0 0 0 0 0 0 0 1 0 1 0]]\n",
      "Accuracy score: 0.16666666666666666\n"
     ]
    },
    {
     "name": "stderr",
     "output_type": "stream",
     "text": [
      "C:\\ProgramData\\Anaconda3\\lib\\site-packages\\sklearn\\metrics\\_classification.py:1318: UndefinedMetricWarning: Precision and F-score are ill-defined and being set to 0.0 in labels with no predicted samples. Use `zero_division` parameter to control this behavior.\n",
      "  _warn_prf(average, modifier, msg_start, len(result))\n",
      "C:\\ProgramData\\Anaconda3\\lib\\site-packages\\sklearn\\metrics\\_classification.py:1318: UndefinedMetricWarning: Recall and F-score are ill-defined and being set to 0.0 in labels with no true samples. Use `zero_division` parameter to control this behavior.\n",
      "  _warn_prf(average, modifier, msg_start, len(result))\n",
      "C:\\ProgramData\\Anaconda3\\lib\\site-packages\\sklearn\\metrics\\_classification.py:1318: UndefinedMetricWarning: Precision and F-score are ill-defined and being set to 0.0 in labels with no predicted samples. Use `zero_division` parameter to control this behavior.\n",
      "  _warn_prf(average, modifier, msg_start, len(result))\n",
      "C:\\ProgramData\\Anaconda3\\lib\\site-packages\\sklearn\\metrics\\_classification.py:1318: UndefinedMetricWarning: Recall and F-score are ill-defined and being set to 0.0 in labels with no true samples. Use `zero_division` parameter to control this behavior.\n",
      "  _warn_prf(average, modifier, msg_start, len(result))\n",
      "C:\\ProgramData\\Anaconda3\\lib\\site-packages\\sklearn\\metrics\\_classification.py:1318: UndefinedMetricWarning: Precision and F-score are ill-defined and being set to 0.0 in labels with no predicted samples. Use `zero_division` parameter to control this behavior.\n",
      "  _warn_prf(average, modifier, msg_start, len(result))\n",
      "C:\\ProgramData\\Anaconda3\\lib\\site-packages\\sklearn\\metrics\\_classification.py:1318: UndefinedMetricWarning: Recall and F-score are ill-defined and being set to 0.0 in labels with no true samples. Use `zero_division` parameter to control this behavior.\n",
      "  _warn_prf(average, modifier, msg_start, len(result))\n"
     ]
    }
   ],
   "source": [
    "knn = KNeighborsClassifier(n_neighbors=2, p=1)\n",
    "\n",
    "knn.fit(x_train, y_train)\n",
    "y_pred = knn.predict(x_test)\n",
    "\n",
    "print(y_pred)\n",
    "print('Classification report:\\n', classification_report(y_test, y_pred))\n",
    "print('Confusion matrix:\\n', confusion_matrix(y_test, y_pred))\n",
    "print('Accuracy score:', accuracy_score(y_test, y_pred))"
   ]
  },
  {
   "cell_type": "code",
   "execution_count": null,
   "id": "9bd7ac70",
   "metadata": {},
   "outputs": [],
   "source": []
  }
 ],
 "metadata": {
  "kernelspec": {
   "display_name": "Python 3 (ipykernel)",
   "language": "python",
   "name": "python3"
  },
  "language_info": {
   "codemirror_mode": {
    "name": "ipython",
    "version": 3
   },
   "file_extension": ".py",
   "mimetype": "text/x-python",
   "name": "python",
   "nbconvert_exporter": "python",
   "pygments_lexer": "ipython3",
   "version": "3.9.12"
  }
 },
 "nbformat": 4,
 "nbformat_minor": 5
}
